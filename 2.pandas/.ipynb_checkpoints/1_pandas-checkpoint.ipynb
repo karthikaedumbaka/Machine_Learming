{
 "cells": [
  {
   "cell_type": "code",
   "execution_count": 7,
   "id": "9e68eee4-db9d-4c49-a2e7-e44a4c278290",
   "metadata": {},
   "outputs": [],
   "source": [
    "import numpy as np\n",
    "import pandas as pd"
   ]
  },
  {
   "cell_type": "markdown",
   "id": "28869172-65d0-4fdc-ad17-17244c9cbf03",
   "metadata": {},
   "source": [
    "# Pandas: A Powerful Data Analysis Library\n",
    "\n",
    "Pandas is an open-source data analysis and manipulation library for Python. It is widely used in data science, machine learning, and data analysis tasks due to its powerful data structures and functions.\n",
    "\n",
    "## Key Features\n",
    "\n",
    "- **Data Structures**: \n",
    "  - **Series**: A one-dimensional labeled array capable of holding any data type.\n",
    "  - **DataFrame**: A two-dimensional labeled data structure with columns of potentially different types, similar to a spreadsheet or SQL table.\n",
    "\n",
    "- **Data Manipulation**: \n",
    "  - Functions for filtering, grouping, merging, and reshaping datasets.\n",
    "  - Easy handling of large datasets with efficient performance.\n",
    "\n",
    "- **Data Cleaning**: \n",
    "  - Tools for handling missing data, duplicates, and data type conversions.\n",
    "  - Functions to clean and prepare data for analysis.\n",
    "\n",
    "- **Time Series Analysis**: \n",
    "  - Built-in support for time series data, allowing for easy date and time manipulation.\n",
    "  - Functions for resampling, frequency conversion, and time zone handling.\n",
    "\n",
    "- **Integration**: \n",
    "  - Works seamlessly with other Python libraries such as NumPy, Matplotlib, and SciPy.\n",
    "  - Supports reading and writing data from various file formats, including CSV, Excel, SQL databases, and more.\n",
    "\n",
    "pt>\n"
   ]
  },
  {
   "cell_type": "markdown",
   "id": "0ce72893-1bca-4d68-b812-e4fd9a2eaa0f",
   "metadata": {},
   "source": [
    "# Series from List"
   ]
  },
  {
   "cell_type": "code",
   "execution_count": 23,
   "id": "748efe5c-8e55-4189-adbf-d7754f431d43",
   "metadata": {},
   "outputs": [],
   "source": [
    "# string\n",
    "contry = [\"india\",\"pakistan\",\"usa\",\"nepal\",\"Srilanka\"]"
   ]
  },
  {
   "cell_type": "code",
   "execution_count": 21,
   "id": "7000100b-1291-4942-91c0-e71eb2a04d41",
   "metadata": {},
   "outputs": [
    {
     "data": {
      "text/plain": [
       "0       india\n",
       "1    pakistan\n",
       "2         usa\n",
       "3       nepal\n",
       "4    Srilanka\n",
       "dtype: object"
      ]
     },
     "execution_count": 21,
     "metadata": {},
     "output_type": "execute_result"
    }
   ],
   "source": [
    "pd.Series(contry)"
   ]
  },
  {
   "cell_type": "code",
   "execution_count": 25,
   "id": "103ef217-3073-4519-86ab-c7350fb38a4f",
   "metadata": {},
   "outputs": [
    {
     "data": {
      "text/plain": [
       "0     100\n",
       "1      23\n",
       "2      23\n",
       "3      66\n",
       "4      44\n",
       "5     333\n",
       "6      45\n",
       "7      56\n",
       "8    7886\n",
       "9      34\n",
       "dtype: int64"
      ]
     },
     "execution_count": 25,
     "metadata": {},
     "output_type": "execute_result"
    }
   ],
   "source": [
    "# integer\n",
    "runs=[100,23,23,66,44,333,45,56,7886,34]\n",
    "pd.Series(runs)"
   ]
  },
  {
   "cell_type": "code",
   "execution_count": 27,
   "id": "22569b83-d9b4-4b66-8157-1475868e36ba",
   "metadata": {},
   "outputs": [
    {
     "data": {
      "text/plain": [
       "telugu     100\n",
       "math        98\n",
       "science     99\n",
       "social      97\n",
       "dtype: int64"
      ]
     },
     "execution_count": 27,
     "metadata": {},
     "output_type": "execute_result"
    }
   ],
   "source": [
    "#custon index\n",
    "marks=[100,98,99,97]\n",
    "subject=[\"telugu\",\"math\",\"science\",\"social\"]\n",
    "pd.Series(marks,index=subject)"
   ]
  },
  {
   "cell_type": "code",
   "execution_count": 29,
   "id": "63003ae4-bd3b-4a2c-be85-5ca0049cdb45",
   "metadata": {},
   "outputs": [
    {
     "data": {
      "text/plain": [
       "telugu     100\n",
       "math        98\n",
       "science     99\n",
       "social      97\n",
       "Name: Karthik's marks, dtype: int64"
      ]
     },
     "execution_count": 29,
     "metadata": {},
     "output_type": "execute_result"
    }
   ],
   "source": [
    "# setting name\n",
    "pd.Series(marks,index=subject,name=\"Karthik's marks\")"
   ]
  },
  {
   "cell_type": "code",
   "execution_count": 35,
   "id": "0e45ef3c-c08b-41ff-ad17-38e7eef6d0f5",
   "metadata": {},
   "outputs": [
    {
     "data": {
      "text/plain": [
       "telugu     100\n",
       "math        98\n",
       "science     99\n",
       "social      97\n",
       "Name: Karthik's marks, dtype: int64"
      ]
     },
     "execution_count": 35,
     "metadata": {},
     "output_type": "execute_result"
    }
   ],
   "source": [
    "pd.Series(marks,index=subject,name=\"Karthik's marks\")"
   ]
  },
  {
   "cell_type": "code",
   "execution_count": 54,
   "id": "31afe070-d700-47fe-9dc1-8fa4a1f14bab",
   "metadata": {},
   "outputs": [
    {
     "data": {
      "text/plain": [
       "telugu     100\n",
       "math        98\n",
       "science     99\n",
       "social      97\n",
       "Name: Karthik's marks, dtype: int64"
      ]
     },
     "execution_count": 54,
     "metadata": {},
     "output_type": "execute_result"
    }
   ],
   "source": [
    "marks={\n",
    "\"telugu\":100,\n",
    "\"math\":98,\n",
    "\"science\":99,\n",
    "\"social\":97\n",
    "}\n",
    "pd.Series(marks,name=\"Karthik's marks\")"
   ]
  },
  {
   "cell_type": "markdown",
   "id": "be7e18f7-2b81-4d23-9fc2-615b6979d549",
   "metadata": {},
   "source": [
    "# Series Attributes\n"
   ]
  },
  {
   "cell_type": "code",
   "execution_count": 56,
   "id": "8fff134a-d9dd-45ec-9b2c-0978148e6db3",
   "metadata": {},
   "outputs": [],
   "source": [
    "marks={\n",
    "\"telugu\":100,\n",
    "\"math\":98,\n",
    "\"science\":99,\n",
    "\"social\":97\n",
    "}\n",
    "karthik_marks=pd.Series(marks,name=\"Karthik's marks\")"
   ]
  },
  {
   "cell_type": "code",
   "execution_count": 58,
   "id": "df6b3a42-6c40-4179-8908-f6894dff30aa",
   "metadata": {},
   "outputs": [
    {
     "data": {
      "text/plain": [
       "4"
      ]
     },
     "execution_count": 58,
     "metadata": {},
     "output_type": "execute_result"
    }
   ],
   "source": [
    "# size\n",
    "karthik_marks.size"
   ]
  },
  {
   "cell_type": "code",
   "execution_count": 60,
   "id": "835c7f65-5f1f-458b-ae15-e06d1c26c808",
   "metadata": {},
   "outputs": [
    {
     "data": {
      "text/plain": [
       "dtype('int64')"
      ]
     },
     "execution_count": 60,
     "metadata": {},
     "output_type": "execute_result"
    }
   ],
   "source": [
    "# dtype\n",
    "karthik_marks.dtype"
   ]
  },
  {
   "cell_type": "code",
   "execution_count": 62,
   "id": "5d7466f9-0dde-41f5-a762-2e97ecfc1bb9",
   "metadata": {},
   "outputs": [
    {
     "data": {
      "text/plain": [
       "\"Karthik's marks\""
      ]
     },
     "execution_count": 62,
     "metadata": {},
     "output_type": "execute_result"
    }
   ],
   "source": [
    "# name\n",
    "karthik_marks.name"
   ]
  },
  {
   "cell_type": "code",
   "execution_count": 66,
   "id": "74fac172-9107-4ef0-b65e-216bbe8cf444",
   "metadata": {},
   "outputs": [
    {
     "data": {
      "text/plain": [
       "True"
      ]
     },
     "execution_count": 66,
     "metadata": {},
     "output_type": "execute_result"
    }
   ],
   "source": [
    "# is_unique\n",
    "karthik_marks.is_unique"
   ]
  },
  {
   "cell_type": "code",
   "execution_count": 68,
   "id": "219ba1b0-bfc2-45ae-88fa-73af1f72097e",
   "metadata": {},
   "outputs": [
    {
     "data": {
      "text/plain": [
       "Index(['telugu', 'math', 'science', 'social'], dtype='object')"
      ]
     },
     "execution_count": 68,
     "metadata": {},
     "output_type": "execute_result"
    }
   ],
   "source": [
    "# index\n",
    "karthik_marks.index"
   ]
  },
  {
   "cell_type": "code",
   "execution_count": 70,
   "id": "a0308d46-ce7c-4bef-b69e-17fb96ac0d59",
   "metadata": {},
   "outputs": [
    {
     "data": {
      "text/plain": [
       "array([100,  98,  99,  97], dtype=int64)"
      ]
     },
     "execution_count": 70,
     "metadata": {},
     "output_type": "execute_result"
    }
   ],
   "source": [
    "#values\n",
    "karthik_marks.values"
   ]
  },
  {
   "cell_type": "code",
   "execution_count": 87,
   "id": "b7a49f48-966c-4977-9b69-a94f01c159cf",
   "metadata": {},
   "outputs": [
    {
     "data": {
      "text/plain": [
       "pandas.core.frame.DataFrame"
      ]
     },
     "execution_count": 87,
     "metadata": {},
     "output_type": "execute_result"
    }
   ],
   "source": [
    "# Series using CSV\n",
    "type(pd.read_csv(\"subs.csv\"))"
   ]
  },
  {
   "cell_type": "code",
   "execution_count": 95,
   "id": "9ae3af14-af8e-4984-9fd0-d4786512f976",
   "metadata": {},
   "outputs": [],
   "source": [
    "data=pd.read_csv(\"subs.csv\")"
   ]
  },
  {
   "cell_type": "code",
   "execution_count": 99,
   "id": "de478f96-e3ca-4a98-a562-f9720a474477",
   "metadata": {},
   "outputs": [
    {
     "data": {
      "text/plain": [
       "pandas.core.series.Series"
      ]
     },
     "execution_count": 99,
     "metadata": {},
     "output_type": "execute_result"
    }
   ],
   "source": [
    "type(data.squeeze())"
   ]
  },
  {
   "cell_type": "code",
   "execution_count": 107,
   "id": "967737c0-e113-4e7d-b3cb-074f97ebf8d5",
   "metadata": {},
   "outputs": [],
   "source": [
    "runs=pd.read_csv(\"kohli_ipl.csv\",index_col=\"match_no\")"
   ]
  },
  {
   "cell_type": "code",
   "execution_count": 111,
   "id": "689913f9-81b6-46ee-9fad-0323c0559355",
   "metadata": {},
   "outputs": [
    {
     "data": {
      "text/plain": [
       "match_no\n",
       "1     1\n",
       "2    23\n",
       "3    13\n",
       "4    12\n",
       "5     1\n",
       "Name: runs, dtype: int64"
      ]
     },
     "execution_count": 111,
     "metadata": {},
     "output_type": "execute_result"
    }
   ],
   "source": [
    "runs.squeeze().head()"
   ]
  },
  {
   "cell_type": "markdown",
   "id": "c1bcdba5-dcbf-4ac4-bbab-0da0970c1298",
   "metadata": {},
   "source": [
    "# Series Method"
   ]
  },
  {
   "cell_type": "code",
   "execution_count": 118,
   "id": "b0dd5a13-0d29-4c4d-956e-23605edb8654",
   "metadata": {},
   "outputs": [
    {
     "data": {
      "text/html": [
       "<div>\n",
       "<style scoped>\n",
       "    .dataframe tbody tr th:only-of-type {\n",
       "        vertical-align: middle;\n",
       "    }\n",
       "\n",
       "    .dataframe tbody tr th {\n",
       "        vertical-align: top;\n",
       "    }\n",
       "\n",
       "    .dataframe thead th {\n",
       "        text-align: right;\n",
       "    }\n",
       "</style>\n",
       "<table border=\"1\" class=\"dataframe\">\n",
       "  <thead>\n",
       "    <tr style=\"text-align: right;\">\n",
       "      <th></th>\n",
       "      <th>Subscribers gained</th>\n",
       "    </tr>\n",
       "  </thead>\n",
       "  <tbody>\n",
       "    <tr>\n",
       "      <th>0</th>\n",
       "      <td>48</td>\n",
       "    </tr>\n",
       "    <tr>\n",
       "      <th>1</th>\n",
       "      <td>57</td>\n",
       "    </tr>\n",
       "    <tr>\n",
       "      <th>2</th>\n",
       "      <td>40</td>\n",
       "    </tr>\n",
       "    <tr>\n",
       "      <th>3</th>\n",
       "      <td>43</td>\n",
       "    </tr>\n",
       "  </tbody>\n",
       "</table>\n",
       "</div>"
      ],
      "text/plain": [
       "   Subscribers gained\n",
       "0                  48\n",
       "1                  57\n",
       "2                  40\n",
       "3                  43"
      ]
     },
     "execution_count": 118,
     "metadata": {},
     "output_type": "execute_result"
    }
   ],
   "source": [
    "# head\n",
    "data.head(4)"
   ]
  },
  {
   "cell_type": "code",
   "execution_count": 124,
   "id": "2fab00d1-054e-4a4d-8a95-0d84eae10cf4",
   "metadata": {},
   "outputs": [
    {
     "data": {
      "text/html": [
       "<div>\n",
       "<style scoped>\n",
       "    .dataframe tbody tr th:only-of-type {\n",
       "        vertical-align: middle;\n",
       "    }\n",
       "\n",
       "    .dataframe tbody tr th {\n",
       "        vertical-align: top;\n",
       "    }\n",
       "\n",
       "    .dataframe thead th {\n",
       "        text-align: right;\n",
       "    }\n",
       "</style>\n",
       "<table border=\"1\" class=\"dataframe\">\n",
       "  <thead>\n",
       "    <tr style=\"text-align: right;\">\n",
       "      <th></th>\n",
       "      <th>runs</th>\n",
       "    </tr>\n",
       "    <tr>\n",
       "      <th>match_no</th>\n",
       "      <th></th>\n",
       "    </tr>\n",
       "  </thead>\n",
       "  <tbody>\n",
       "    <tr>\n",
       "      <th>210</th>\n",
       "      <td>30</td>\n",
       "    </tr>\n",
       "    <tr>\n",
       "      <th>211</th>\n",
       "      <td>0</td>\n",
       "    </tr>\n",
       "    <tr>\n",
       "      <th>212</th>\n",
       "      <td>20</td>\n",
       "    </tr>\n",
       "    <tr>\n",
       "      <th>213</th>\n",
       "      <td>73</td>\n",
       "    </tr>\n",
       "    <tr>\n",
       "      <th>214</th>\n",
       "      <td>25</td>\n",
       "    </tr>\n",
       "    <tr>\n",
       "      <th>215</th>\n",
       "      <td>7</td>\n",
       "    </tr>\n",
       "  </tbody>\n",
       "</table>\n",
       "</div>"
      ],
      "text/plain": [
       "          runs\n",
       "match_no      \n",
       "210         30\n",
       "211          0\n",
       "212         20\n",
       "213         73\n",
       "214         25\n",
       "215          7"
      ]
     },
     "execution_count": 124,
     "metadata": {},
     "output_type": "execute_result"
    }
   ],
   "source": [
    "# tail\n",
    "runs.tail(6)"
   ]
  },
  {
   "cell_type": "code",
   "execution_count": 130,
   "id": "e22f0bdf-6e94-4a65-b39b-a23669e83b6e",
   "metadata": {},
   "outputs": [
    {
     "data": {
      "text/html": [
       "<div>\n",
       "<style scoped>\n",
       "    .dataframe tbody tr th:only-of-type {\n",
       "        vertical-align: middle;\n",
       "    }\n",
       "\n",
       "    .dataframe tbody tr th {\n",
       "        vertical-align: top;\n",
       "    }\n",
       "\n",
       "    .dataframe thead th {\n",
       "        text-align: right;\n",
       "    }\n",
       "</style>\n",
       "<table border=\"1\" class=\"dataframe\">\n",
       "  <thead>\n",
       "    <tr style=\"text-align: right;\">\n",
       "      <th></th>\n",
       "      <th>runs</th>\n",
       "    </tr>\n",
       "    <tr>\n",
       "      <th>match_no</th>\n",
       "      <th></th>\n",
       "    </tr>\n",
       "  </thead>\n",
       "  <tbody>\n",
       "    <tr>\n",
       "      <th>192</th>\n",
       "      <td>5</td>\n",
       "    </tr>\n",
       "    <tr>\n",
       "      <th>40</th>\n",
       "      <td>12</td>\n",
       "    </tr>\n",
       "    <tr>\n",
       "      <th>168</th>\n",
       "      <td>25</td>\n",
       "    </tr>\n",
       "    <tr>\n",
       "      <th>1</th>\n",
       "      <td>1</td>\n",
       "    </tr>\n",
       "    <tr>\n",
       "      <th>75</th>\n",
       "      <td>1</td>\n",
       "    </tr>\n",
       "  </tbody>\n",
       "</table>\n",
       "</div>"
      ],
      "text/plain": [
       "          runs\n",
       "match_no      \n",
       "192          5\n",
       "40          12\n",
       "168         25\n",
       "1            1\n",
       "75           1"
      ]
     },
     "execution_count": 130,
     "metadata": {},
     "output_type": "execute_result"
    }
   ],
   "source": [
    "# sample or random\n",
    "runs.sample(5)"
   ]
  },
  {
   "cell_type": "code",
   "execution_count": 136,
   "id": "937349d0-a2ce-4f37-828c-03f2d2cdc3cb",
   "metadata": {},
   "outputs": [],
   "source": [
    "# value_counts -> movies\n",
    "movies=pd.read_csv(\"bollywood.csv\").squeeze()"
   ]
  },
  {
   "cell_type": "code",
   "execution_count": 140,
   "id": "8d3551b1-0c29-4673-95c8-22ac0f0d1fb2",
   "metadata": {},
   "outputs": [
    {
     "data": {
      "text/plain": [
       "lead\n",
       "Akshay Kumar        48\n",
       "Amitabh Bachchan    45\n",
       "Ajay Devgn          38\n",
       "Salman Khan         31\n",
       "Sanjay Dutt         26\n",
       "                    ..\n",
       "Diganth              1\n",
       "Parveen Kaur         1\n",
       "Seema Azmi           1\n",
       "Akanksha Puri        1\n",
       "Edwin Fernandes      1\n",
       "Name: count, Length: 566, dtype: int64"
      ]
     },
     "execution_count": 140,
     "metadata": {},
     "output_type": "execute_result"
    }
   ],
   "source": [
    "movies[\"lead\"].value_counts()"
   ]
  },
  {
   "cell_type": "code",
   "execution_count": 148,
   "id": "0bc064f7-43c0-4698-af65-48084b0116bc",
   "metadata": {},
   "outputs": [
    {
     "data": {
      "text/plain": [
       "match_no\n",
       "87       0\n",
       "211      0\n",
       "207      0\n",
       "206      0\n",
       "91       0\n",
       "      ... \n",
       "164    100\n",
       "120    100\n",
       "123    108\n",
       "126    109\n",
       "128    113\n",
       "Name: runs, Length: 215, dtype: int64"
      ]
     },
     "execution_count": 148,
     "metadata": {},
     "output_type": "execute_result"
    }
   ],
   "source": [
    "#sort_values-> inplace\n",
    "runs[\"runs\"].sort_values()"
   ]
  },
  {
   "cell_type": "code",
   "execution_count": 156,
   "id": "f82a550e-afc5-454a-8402-17896cef2653",
   "metadata": {},
   "outputs": [
    {
     "data": {
      "text/plain": [
       "113"
      ]
     },
     "execution_count": 156,
     "metadata": {},
     "output_type": "execute_result"
    }
   ],
   "source": [
    "runs[\"runs\"].sort_values(ascending=False).values[0]"
   ]
  },
  {
   "cell_type": "code",
   "execution_count": 166,
   "id": "3367add6-d54c-4329-b4bb-36de419ae08b",
   "metadata": {},
   "outputs": [
    {
     "data": {
      "text/plain": [
       "0                   Uri: The Surgical Strike\n",
       "1                              Battalion 609\n",
       "2       The Accidental Prime Minister (film)\n",
       "3                            Why Cheat India\n",
       "4                            Evening Shadows\n",
       "                        ...                 \n",
       "1495                  Hum Tumhare Hain Sanam\n",
       "1496                     Aankhen (2002 film)\n",
       "1497                         Saathiya (film)\n",
       "1498                          Company (film)\n",
       "1499                    Awara Paagal Deewana\n",
       "Name: movie, Length: 1500, dtype: object"
      ]
     },
     "execution_count": 166,
     "metadata": {},
     "output_type": "execute_result"
    }
   ],
   "source": [
    "# sort_index -> inplace -> movies\n",
    "movies=pd.read_csv(\"bollywood.csv\")\n",
    "movies[\"movie\"].sort_index()"
   ]
  },
  {
   "cell_type": "markdown",
   "id": "e5945969-a5d1-4f65-96de-3e120093eaf0",
   "metadata": {},
   "source": [
    "# series Math Methods\n"
   ]
  },
  {
   "cell_type": "code",
   "execution_count": 169,
   "id": "66a4bbbc-4dcf-4f32-81c4-0d9f121b176b",
   "metadata": {},
   "outputs": [
    {
     "data": {
      "text/plain": [
       "runs    215\n",
       "dtype: int64"
      ]
     },
     "execution_count": 169,
     "metadata": {},
     "output_type": "execute_result"
    }
   ],
   "source": [
    "runs.count()"
   ]
  },
  {
   "cell_type": "code",
   "execution_count": 173,
   "id": "d9641548-a528-4ce5-8f06-3c5d200f9c48",
   "metadata": {},
   "outputs": [
    {
     "data": {
      "text/plain": [
       "runs    0\n",
       "dtype: int64"
      ]
     },
     "execution_count": 173,
     "metadata": {},
     "output_type": "execute_result"
    }
   ],
   "source": [
    "# product\n",
    "runs.prod()"
   ]
  },
  {
   "cell_type": "code",
   "execution_count": 177,
   "id": "46fcbdb2-e602-4e92-b26c-963a85ac3851",
   "metadata": {},
   "outputs": [
    {
     "data": {
      "text/plain": [
       "runs    30.855814\n",
       "dtype: float64"
      ]
     },
     "execution_count": 177,
     "metadata": {},
     "output_type": "execute_result"
    }
   ],
   "source": [
    "# mean -> median -> mode -> std -> var\n",
    "runs.mean()"
   ]
  },
  {
   "cell_type": "code",
   "execution_count": 179,
   "id": "52203f41-efb5-4efa-be22-688862af3ddf",
   "metadata": {},
   "outputs": [
    {
     "data": {
      "text/plain": [
       "runs    24.0\n",
       "dtype: float64"
      ]
     },
     "execution_count": 179,
     "metadata": {},
     "output_type": "execute_result"
    }
   ],
   "source": [
    "# medain\n",
    "runs.median()"
   ]
  },
  {
   "cell_type": "code",
   "execution_count": 181,
   "id": "a3ea60d1-7904-4617-9d97-f3db95ee94d6",
   "metadata": {},
   "outputs": [
    {
     "data": {
      "text/html": [
       "<div>\n",
       "<style scoped>\n",
       "    .dataframe tbody tr th:only-of-type {\n",
       "        vertical-align: middle;\n",
       "    }\n",
       "\n",
       "    .dataframe tbody tr th {\n",
       "        vertical-align: top;\n",
       "    }\n",
       "\n",
       "    .dataframe thead th {\n",
       "        text-align: right;\n",
       "    }\n",
       "</style>\n",
       "<table border=\"1\" class=\"dataframe\">\n",
       "  <thead>\n",
       "    <tr style=\"text-align: right;\">\n",
       "      <th></th>\n",
       "      <th>runs</th>\n",
       "    </tr>\n",
       "  </thead>\n",
       "  <tbody>\n",
       "    <tr>\n",
       "      <th>0</th>\n",
       "      <td>0</td>\n",
       "    </tr>\n",
       "  </tbody>\n",
       "</table>\n",
       "</div>"
      ],
      "text/plain": [
       "   runs\n",
       "0     0"
      ]
     },
     "execution_count": 181,
     "metadata": {},
     "output_type": "execute_result"
    }
   ],
   "source": [
    "# mode\n",
    "runs.mode()"
   ]
  },
  {
   "cell_type": "code",
   "execution_count": 183,
   "id": "9c09e933-3b56-4b82-9626-adf0a0c656b5",
   "metadata": {},
   "outputs": [
    {
     "data": {
      "text/plain": [
       "runs    26.229801\n",
       "dtype: float64"
      ]
     },
     "execution_count": 183,
     "metadata": {},
     "output_type": "execute_result"
    }
   ],
   "source": [
    "# std\n",
    "runs.std()"
   ]
  },
  {
   "cell_type": "code",
   "execution_count": 185,
   "id": "8809ec1a-65b9-48ff-885e-5f4866e95784",
   "metadata": {},
   "outputs": [
    {
     "data": {
      "text/plain": [
       "runs    688.002478\n",
       "dtype: float64"
      ]
     },
     "execution_count": 185,
     "metadata": {},
     "output_type": "execute_result"
    }
   ],
   "source": [
    "# var\n",
    "runs.var()"
   ]
  },
  {
   "cell_type": "code",
   "execution_count": 187,
   "id": "954d9640-fc3c-4222-a6c4-5029d2e7f0d0",
   "metadata": {},
   "outputs": [
    {
     "data": {
      "text/plain": [
       "runs    0\n",
       "dtype: int64"
      ]
     },
     "execution_count": 187,
     "metadata": {},
     "output_type": "execute_result"
    }
   ],
   "source": [
    "# min /max\n",
    "runs.min()"
   ]
  },
  {
   "cell_type": "code",
   "execution_count": 189,
   "id": "6cc8ef62-801a-4360-8d8a-6b2def7f2a0d",
   "metadata": {},
   "outputs": [
    {
     "data": {
      "text/plain": [
       "runs    113\n",
       "dtype: int64"
      ]
     },
     "execution_count": 189,
     "metadata": {},
     "output_type": "execute_result"
    }
   ],
   "source": [
    "runs.max()"
   ]
  },
  {
   "cell_type": "code",
   "execution_count": 195,
   "id": "38a2a65f-068c-4ff7-a182-fd72b530715f",
   "metadata": {},
   "outputs": [
    {
     "data": {
      "text/html": [
       "<div>\n",
       "<style scoped>\n",
       "    .dataframe tbody tr th:only-of-type {\n",
       "        vertical-align: middle;\n",
       "    }\n",
       "\n",
       "    .dataframe tbody tr th {\n",
       "        vertical-align: top;\n",
       "    }\n",
       "\n",
       "    .dataframe thead th {\n",
       "        text-align: right;\n",
       "    }\n",
       "</style>\n",
       "<table border=\"1\" class=\"dataframe\">\n",
       "  <thead>\n",
       "    <tr style=\"text-align: right;\">\n",
       "      <th></th>\n",
       "      <th>runs</th>\n",
       "    </tr>\n",
       "  </thead>\n",
       "  <tbody>\n",
       "    <tr>\n",
       "      <th>count</th>\n",
       "      <td>215.000000</td>\n",
       "    </tr>\n",
       "    <tr>\n",
       "      <th>mean</th>\n",
       "      <td>30.855814</td>\n",
       "    </tr>\n",
       "    <tr>\n",
       "      <th>std</th>\n",
       "      <td>26.229801</td>\n",
       "    </tr>\n",
       "    <tr>\n",
       "      <th>min</th>\n",
       "      <td>0.000000</td>\n",
       "    </tr>\n",
       "    <tr>\n",
       "      <th>25%</th>\n",
       "      <td>9.000000</td>\n",
       "    </tr>\n",
       "    <tr>\n",
       "      <th>50%</th>\n",
       "      <td>24.000000</td>\n",
       "    </tr>\n",
       "    <tr>\n",
       "      <th>75%</th>\n",
       "      <td>48.000000</td>\n",
       "    </tr>\n",
       "    <tr>\n",
       "      <th>max</th>\n",
       "      <td>113.000000</td>\n",
       "    </tr>\n",
       "  </tbody>\n",
       "</table>\n",
       "</div>"
      ],
      "text/plain": [
       "             runs\n",
       "count  215.000000\n",
       "mean    30.855814\n",
       "std     26.229801\n",
       "min      0.000000\n",
       "25%      9.000000\n",
       "50%     24.000000\n",
       "75%     48.000000\n",
       "max    113.000000"
      ]
     },
     "execution_count": 195,
     "metadata": {},
     "output_type": "execute_result"
    }
   ],
   "source": [
    "runs.describe()"
   ]
  },
  {
   "cell_type": "markdown",
   "id": "92d4a409-7b3f-46e8-88d1-c97e81c118bc",
   "metadata": {},
   "source": [
    "# Series with Python Functionalities"
   ]
  },
  {
   "cell_type": "code",
   "execution_count": 208,
   "id": "c5f8ebec-88a3-4f73-a0db-b0107839b7ac",
   "metadata": {},
   "outputs": [
    {
     "name": "stdout",
     "output_type": "stream",
     "text": [
      "215\n",
      "<class 'pandas.core.frame.DataFrame'>\n",
      "['T', '_AXIS_LEN', '_AXIS_ORDERS', '_AXIS_TO_AXIS_NUMBER', '_HANDLED_TYPES', '__abs__', '__add__', '__and__', '__annotations__', '__array__', '__array_priority__', '__array_ufunc__', '__arrow_c_stream__', '__bool__', '__class__', '__contains__', '__copy__', '__dataframe__', '__dataframe_consortium_standard__', '__deepcopy__', '__delattr__', '__delitem__', '__dict__', '__dir__', '__divmod__', '__doc__', '__eq__', '__finalize__', '__floordiv__', '__format__', '__ge__', '__getattr__', '__getattribute__', '__getitem__', '__getstate__', '__gt__', '__hash__', '__iadd__', '__iand__', '__ifloordiv__', '__imod__', '__imul__', '__init__', '__init_subclass__', '__invert__', '__ior__', '__ipow__', '__isub__', '__iter__', '__itruediv__', '__ixor__', '__le__', '__len__', '__lt__', '__matmul__', '__mod__', '__module__', '__mul__', '__ne__', '__neg__', '__new__', '__nonzero__', '__or__', '__pandas_priority__', '__pos__', '__pow__', '__radd__', '__rand__', '__rdivmod__', '__reduce__', '__reduce_ex__', '__repr__', '__rfloordiv__', '__rmatmul__', '__rmod__', '__rmul__', '__ror__', '__round__', '__rpow__', '__rsub__', '__rtruediv__', '__rxor__', '__setattr__', '__setitem__', '__setstate__', '__sizeof__', '__str__', '__sub__', '__subclasshook__', '__truediv__', '__weakref__', '__xor__', '_accessors', '_accum_func', '_agg_examples_doc', '_agg_see_also_doc', '_align_for_op', '_align_frame', '_align_series', '_append', '_arith_method', '_arith_method_with_reindex', '_as_manager', '_attrs', '_box_col_values', '_can_fast_transpose', '_check_inplace_and_allows_duplicate_labels', '_check_is_chained_assignment_possible', '_check_label_or_level_ambiguity', '_check_setitem_copy', '_clear_item_cache', '_clip_with_one_bound', '_clip_with_scalar', '_cmp_method', '_combine_frame', '_consolidate', '_consolidate_inplace', '_construct_axes_dict', '_construct_result', '_constructor', '_constructor_from_mgr', '_constructor_sliced', '_constructor_sliced_from_mgr', '_create_data_for_split_and_tight_to_dict', '_data', '_deprecate_downcast', '_dir_additions', '_dir_deletions', '_dispatch_frame_op', '_drop_axis', '_drop_labels_or_levels', '_ensure_valid_index', '_find_valid_index', '_flags', '_flex_arith_method', '_flex_cmp_method', '_from_arrays', '_from_mgr', '_get_agg_axis', '_get_axis', '_get_axis_name', '_get_axis_number', '_get_axis_resolvers', '_get_block_manager_axis', '_get_bool_data', '_get_cleaned_column_resolvers', '_get_column_array', '_get_index_resolvers', '_get_item_cache', '_get_label_or_level_values', '_get_numeric_data', '_get_value', '_get_values_for_csv', '_getitem_bool_array', '_getitem_multilevel', '_getitem_nocopy', '_getitem_slice', '_gotitem', '_hidden_attrs', '_indexed_same', '_info_axis', '_info_axis_name', '_info_axis_number', '_info_repr', '_init_mgr', '_inplace_method', '_internal_names', '_internal_names_set', '_is_copy', '_is_homogeneous_type', '_is_label_or_level_reference', '_is_label_reference', '_is_level_reference', '_is_mixed_type', '_is_view', '_is_view_after_cow_rules', '_iset_item', '_iset_item_mgr', '_iset_not_inplace', '_item_cache', '_iter_column_arrays', '_ixs', '_logical_func', '_logical_method', '_maybe_align_series_as_frame', '_maybe_cache_changed', '_maybe_update_cacher', '_metadata', '_mgr', '_min_count_stat_function', '_needs_reindex_multi', '_pad_or_backfill', '_protect_consolidate', '_reduce', '_reduce_axis1', '_reindex_axes', '_reindex_multi', '_reindex_with_indexers', '_rename', '_replace_columnwise', '_repr_data_resource_', '_repr_fits_horizontal_', '_repr_fits_vertical_', '_repr_html_', '_repr_latex_', '_reset_cache', '_reset_cacher', '_sanitize_column', '_series', '_set_axis', '_set_axis_name', '_set_axis_nocheck', '_set_is_copy', '_set_item', '_set_item_frame_value', '_set_item_mgr', '_set_value', '_setitem_array', '_setitem_frame', '_setitem_slice', '_shift_with_freq', '_should_reindex_frame_op', '_slice', '_stat_function', '_stat_function_ddof', '_take_with_is_copy', '_to_dict_of_blocks', '_to_latex_via_styler', '_typ', '_update_inplace', '_validate_dtype', '_values', '_where', 'abs', 'add', 'add_prefix', 'add_suffix', 'agg', 'aggregate', 'align', 'all', 'any', 'apply', 'applymap', 'asfreq', 'asof', 'assign', 'astype', 'at', 'at_time', 'attrs', 'axes', 'backfill', 'between_time', 'bfill', 'bool', 'boxplot', 'clip', 'columns', 'combine', 'combine_first', 'compare', 'convert_dtypes', 'copy', 'corr', 'corrwith', 'count', 'cov', 'cummax', 'cummin', 'cumprod', 'cumsum', 'describe', 'diff', 'div', 'divide', 'dot', 'drop', 'drop_duplicates', 'droplevel', 'dropna', 'dtypes', 'duplicated', 'empty', 'eq', 'equals', 'eval', 'ewm', 'expanding', 'explode', 'ffill', 'fillna', 'filter', 'first', 'first_valid_index', 'flags', 'floordiv', 'from_dict', 'from_records', 'ge', 'get', 'groupby', 'gt', 'head', 'hist', 'iat', 'idxmax', 'idxmin', 'iloc', 'index', 'infer_objects', 'info', 'insert', 'interpolate', 'isetitem', 'isin', 'isna', 'isnull', 'items', 'iterrows', 'itertuples', 'join', 'keys', 'kurt', 'kurtosis', 'last', 'last_valid_index', 'le', 'loc', 'lt', 'map', 'mask', 'max', 'mean', 'median', 'melt', 'memory_usage', 'merge', 'min', 'mod', 'mode', 'mul', 'multiply', 'ndim', 'ne', 'nlargest', 'notna', 'notnull', 'nsmallest', 'nunique', 'pad', 'pct_change', 'pipe', 'pivot', 'pivot_table', 'plot', 'pop', 'pow', 'prod', 'product', 'quantile', 'query', 'radd', 'rank', 'rdiv', 'reindex', 'reindex_like', 'rename', 'rename_axis', 'reorder_levels', 'replace', 'resample', 'reset_index', 'rfloordiv', 'rmod', 'rmul', 'rolling', 'round', 'rpow', 'rsub', 'rtruediv', 'runs', 'sample', 'select_dtypes', 'sem', 'set_axis', 'set_flags', 'set_index', 'shape', 'shift', 'size', 'skew', 'sort_index', 'sort_values', 'squeeze', 'stack', 'std', 'style', 'sub', 'subtract', 'sum', 'swapaxes', 'swaplevel', 'tail', 'take', 'to_clipboard', 'to_csv', 'to_dict', 'to_excel', 'to_feather', 'to_gbq', 'to_hdf', 'to_html', 'to_json', 'to_latex', 'to_markdown', 'to_numpy', 'to_orc', 'to_parquet', 'to_period', 'to_pickle', 'to_records', 'to_sql', 'to_stata', 'to_string', 'to_timestamp', 'to_xarray', 'to_xml', 'transform', 'transpose', 'truediv', 'truncate', 'tz_convert', 'tz_localize', 'unstack', 'update', 'value_counts', 'values', 'var', 'where', 'xs']\n",
      "[0, 0, 0, 0, 0, 0, 0, 0, 0, 1, 1, 1, 1, 1, 1, 1, 1, 2, 2, 3, 3, 3, 3, 3, 4, 4, 4, 4, 4, 5, 5, 5, 5, 5, 6, 6, 6, 6, 7, 7, 7, 7, 8, 8, 8, 8, 8, 8, 9, 9, 9, 9, 9, 9, 9, 10, 10, 10, 11, 11, 11, 12, 12, 12, 12, 12, 12, 12, 12, 13, 13, 13, 13, 14, 14, 14, 14, 15, 15, 16, 16, 16, 16, 16, 17, 17, 18, 18, 18, 18, 19, 19, 19, 20, 20, 20, 20, 21, 21, 21, 22, 22, 23, 23, 23, 23, 24, 24, 24, 25, 25, 25, 25, 25, 27, 27, 27, 28, 29, 30, 30, 30, 31, 31, 31, 32, 32, 32, 33, 33, 33, 33, 34, 34, 34, 35, 35, 35, 35, 35, 35, 36, 37, 38, 38, 38, 38, 39, 39, 39, 41, 41, 41, 42, 42, 43, 43, 44, 45, 46, 48, 48, 48, 48, 49, 50, 50, 51, 51, 51, 52, 53, 54, 54, 55, 56, 56, 57, 57, 57, 58, 58, 58, 58, 62, 62, 64, 65, 67, 67, 67, 68, 70, 70, 71, 72, 72, 73, 73, 73, 75, 75, 79, 80, 82, 84, 90, 92, 93, 99, 100, 100, 108, 109, 113]\n"
     ]
    }
   ],
   "source": [
    "# len/type/dir/sorted\n",
    "print(len(runs))\n",
    "print(type(data))\n",
    "print(dir(runs))\n",
    "print(sorted(runs['runs']))"
   ]
  },
  {
   "cell_type": "code",
   "execution_count": 210,
   "id": "42817b42-0888-4c0e-95a7-869a5e6c596a",
   "metadata": {},
   "outputs": [
    {
     "data": {
      "text/plain": [
       "['movie', 'lead']"
      ]
     },
     "execution_count": 210,
     "metadata": {},
     "output_type": "execute_result"
    }
   ],
   "source": [
    "# type conversion\n",
    "list(movies)"
   ]
  },
  {
   "cell_type": "code",
   "execution_count": 218,
   "id": "6a64036f-7dcc-4b89-b5bf-1581f8b9b319",
   "metadata": {},
   "outputs": [
    {
     "data": {
      "text/plain": [
       "False"
      ]
     },
     "execution_count": 218,
     "metadata": {},
     "output_type": "execute_result"
    }
   ],
   "source": [
    "# membership opertor\n",
    "\"Battalion 609\" in movies[\"movie\"] "
   ]
  },
  {
   "cell_type": "code",
   "execution_count": 220,
   "id": "972802c8-db6a-4e89-9c5a-aa90e14272d5",
   "metadata": {},
   "outputs": [
    {
     "data": {
      "text/plain": [
       "<Axes: xlabel='match_no'>"
      ]
     },
     "execution_count": 220,
     "metadata": {},
     "output_type": "execute_result"
    },
    {
     "data": {
      "image/png": "[encoded data removed]",
      "text/plain": [
       "<Figure size 640x480 with 1 Axes>"
      ]
     },
     "metadata": {},
     "output_type": "display_data"
    }
   ],
   "source": [
    "# plotting Graphs\n",
    "runs.plot()"
   ]
  },
  {
   "cell_type": "code",
   "execution_count": 232,
   "id": "4eef204a-cb48-4741-a3ae-5f6f89db18f2",
   "metadata": {},
   "outputs": [
    {
     "data": {
      "text/plain": [
       "<Axes: ylabel='count'>"
      ]
     },
     "execution_count": 232,
     "metadata": {},
     "output_type": "execute_result"
    },
    {
     "data": {
      "image/png": "[encoded data removed]",
      "text/plain": [
       "<Figure size 640x480 with 1 Axes>"
      ]
     },
     "metadata": {},
     "output_type": "display_data"
    }
   ],
   "source": [
    "movies[\"lead\"].value_counts().head(10).plot(kind=\"pie\")"
   ]
  },
  {
   "cell_type": "code",
   "execution_count": null,
   "id": "91a60596-d481-4ae7-a265-f8e70c946daa",
   "metadata": {},
   "outputs": [],
   "source": []
  }
 ],
 "metadata": {
  "kernelspec": {
   "display_name": "Python 3 (ipykernel)",
   "language": "python",
   "name": "python3"
  },
  "language_info": {
   "codemirror_mode": {
    "name": "ipython",
    "version": 3
   },
   "file_extension": ".py",
   "mimetype": "text/x-python",
   "name": "python",
   "nbconvert_exporter": "python",
   "pygments_lexer": "ipython3",
   "version": "3.12.7"
  }
 },
 "nbformat": 4,
 "nbformat_minor": 5
}
