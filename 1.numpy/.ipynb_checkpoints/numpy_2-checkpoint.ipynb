{
 "cells": [
  {
   "cell_type": "markdown",
   "id": "7f778810-6d54-4bd9-a0f1-e7d0ca23e32e",
   "metadata": {},
   "source": [
    "# Borad casting\n",
    "\n",
    "Broadcasting in NumPy is a powerful mechanism that allows NumPy to work with arrays of different shapes when performing arithmetic operations. It enables operations on arrays without the need for explicit replication of data, which can save memory and improve performance.\r\n"
   ]
  },
  {
   "cell_type": "code",
   "execution_count": 34,
   "id": "9ba7ba62-5ff5-4f76-b183-c99ae346512d",
   "metadata": {},
   "outputs": [
    {
     "name": "stdout",
     "output_type": "stream",
     "text": [
      "[[0 1 2]\n",
      " [3 4 5]]\n",
      "_________\n",
      "[[0 1 2]]\n"
     ]
    }
   ],
   "source": [
    "import numpy as np\n",
    "from icecream import ic\n",
    "a=np.arange(6).reshape(2,3)\n",
    "b=np.arange(3).reshape(1,3)\n",
    "print(a)\n",
    "print(\"_________\")\n",
    "print(b)"
   ]
  },
  {
   "cell_type": "code",
   "execution_count": 14,
   "id": "2cf184c5-0db9-4867-8664-5b8ef2dd21eb",
   "metadata": {},
   "outputs": [
    {
     "data": {
      "text/plain": [
       "array([[0, 2, 4],\n",
       "       [3, 5, 7]])"
      ]
     },
     "execution_count": 14,
     "metadata": {},
     "output_type": "execute_result"
    }
   ],
   "source": [
    "a+b"
   ]
  },
  {
   "cell_type": "code",
   "execution_count": 22,
   "id": "9f172f5a-956b-45ae-8aba-4ee0bd0f95b6",
   "metadata": {},
   "outputs": [],
   "source": [
    "c=np.arange(3).reshape(1,3)\n",
    "d=np.arange(3).reshape(3,1)\n"
   ]
  },
  {
   "cell_type": "code",
   "execution_count": 24,
   "id": "fa1a3b69-b36f-4909-8b08-3542c1949797",
   "metadata": {},
   "outputs": [
    {
     "name": "stdout",
     "output_type": "stream",
     "text": [
      "[[0 1 2]]\n",
      "______\n",
      "[[0]\n",
      " [1]\n",
      " [2]]\n"
     ]
    }
   ],
   "source": [
    "print(c)\n",
    "print(\"______\")\n",
    "print(d)"
   ]
  },
  {
   "cell_type": "code",
   "execution_count": 26,
   "id": "736804b8-5ec9-45e8-9ed4-b5347fb63049",
   "metadata": {},
   "outputs": [
    {
     "data": {
      "text/plain": [
       "array([[0, 1, 2],\n",
       "       [1, 2, 3],\n",
       "       [2, 3, 4]])"
      ]
     },
     "execution_count": 26,
     "metadata": {},
     "output_type": "execute_result"
    }
   ],
   "source": [
    "c+d"
   ]
  },
  {
   "cell_type": "markdown",
   "id": "9975940f-5dbd-4dcc-acaf-f290f9f13b8d",
   "metadata": {},
   "source": [
    "# example"
   ]
  },
  {
   "cell_type": "code",
   "execution_count": 40,
   "id": "9d63fb63-b27b-4cd1-b6f8-e48f3c192061",
   "metadata": {},
   "outputs": [
    {
     "name": "stderr",
     "output_type": "stream",
     "text": [
      "ic| a: array([[0, 1, 2],\n",
      "              [3, 4, 5]])\n",
      "ic| b: array([0, 1, 2])\n"
     ]
    },
    {
     "data": {
      "text/plain": [
       "array([[0, 2, 4],\n",
       "       [3, 5, 7]])"
      ]
     },
     "execution_count": 40,
     "metadata": {},
     "output_type": "execute_result"
    }
   ],
   "source": [
    "a=np.arange(6).reshape(2,3)\n",
    "b=np.arange(3).reshape(3)\n",
    "ic(a)\n",
    "ic(b)\n",
    "\n",
    "a+b"
   ]
  },
  {
   "cell_type": "code",
   "execution_count": 42,
   "id": "70c74c35-cb87-410b-80ae-fb34998682df",
   "metadata": {},
   "outputs": [
    {
     "ename": "ValueError",
     "evalue": "cannot reshape array of size 6 into shape (2,4)",
     "output_type": "error",
     "traceback": [
      "\u001b[1;31m---------------------------------------------------------------------------\u001b[0m",
      "\u001b[1;31mValueError\u001b[0m                                Traceback (most recent call last)",
      "Cell \u001b[1;32mIn[42], line 1\u001b[0m\n\u001b[1;32m----> 1\u001b[0m a\u001b[38;5;241m=\u001b[39m\u001b[43mnp\u001b[49m\u001b[38;5;241;43m.\u001b[39;49m\u001b[43marange\u001b[49m\u001b[43m(\u001b[49m\u001b[38;5;241;43m6\u001b[39;49m\u001b[43m)\u001b[49m\u001b[38;5;241;43m.\u001b[39;49m\u001b[43mreshape\u001b[49m\u001b[43m(\u001b[49m\u001b[38;5;241;43m2\u001b[39;49m\u001b[43m,\u001b[49m\u001b[38;5;241;43m4\u001b[39;49m\u001b[43m)\u001b[49m\n\u001b[0;32m      2\u001b[0m b\u001b[38;5;241m=\u001b[39mnp\u001b[38;5;241m.\u001b[39marange(\u001b[38;5;241m3\u001b[39m)\u001b[38;5;241m.\u001b[39mreshape(\u001b[38;5;241m3\u001b[39m)\n\u001b[0;32m      3\u001b[0m ic(a)\n",
      "\u001b[1;31mValueError\u001b[0m: cannot reshape array of size 6 into shape (2,4)"
     ]
    }
   ],
   "source": [
    "a=np.arange(6).reshape(2,4)\n",
    "b=np.arange(3).reshape(3)\n",
    "ic(a)\n",
    "ic(b)\n",
    "\n",
    "a+b"
   ]
  },
  {
   "cell_type": "code",
   "execution_count": 44,
   "id": "14861838-000d-4565-b063-d97ef5bfd403",
   "metadata": {},
   "outputs": [
    {
     "name": "stderr",
     "output_type": "stream",
     "text": [
      "ic| a: array([[ 0,  1,  2,  3],\n",
      "              [ 4,  5,  6,  7],\n",
      "              [ 8,  9, 10, 11],\n",
      "              [12, 13, 14, 15]])\n",
      "ic| b: array([[0, 1],\n",
      "              [2, 3]])\n"
     ]
    },
    {
     "ename": "ValueError",
     "evalue": "operands could not be broadcast together with shapes (4,4) (2,2) ",
     "output_type": "error",
     "traceback": [
      "\u001b[1;31m---------------------------------------------------------------------------\u001b[0m",
      "\u001b[1;31mValueError\u001b[0m                                Traceback (most recent call last)",
      "Cell \u001b[1;32mIn[44], line 6\u001b[0m\n\u001b[0;32m      3\u001b[0m ic(a)\n\u001b[0;32m      4\u001b[0m ic(b)\n\u001b[1;32m----> 6\u001b[0m \u001b[43ma\u001b[49m\u001b[38;5;241;43m+\u001b[39;49m\u001b[43mb\u001b[49m\n",
      "\u001b[1;31mValueError\u001b[0m: operands could not be broadcast together with shapes (4,4) (2,2) "
     ]
    }
   ],
   "source": [
    "a=np.arange(16).reshape(4,4)\n",
    "b=np.arange(4).reshape(2,2)\n",
    "ic(a)\n",
    "ic(b)\n",
    "\n",
    "a+b"
   ]
  },
  {
   "cell_type": "markdown",
   "id": "22ca1eb4-25aa-4a1a-a14c-68c28d47306a",
   "metadata": {},
   "source": [
    "# working with mathematical formuals"
   ]
  },
  {
   "cell_type": "code",
   "execution_count": 59,
   "id": "9b59e8e2-2630-46d1-af3b-f3ce2f9662ad",
   "metadata": {},
   "outputs": [
    {
     "data": {
      "text/plain": [
       "0.8939966636005579"
      ]
     },
     "execution_count": 59,
     "metadata": {},
     "output_type": "execute_result"
    }
   ],
   "source": [
    "np.sin(90)"
   ]
  },
  {
   "cell_type": "code",
   "execution_count": 61,
   "id": "8a843f2a-2029-40dd-9d8c-7466d88c1a3a",
   "metadata": {},
   "outputs": [],
   "source": [
    "# sigmoid"
   ]
  },
  {
   "cell_type": "code",
   "execution_count": null,
   "id": "79d465d5-4d0c-459c-b848-5cc4920cdeb2",
   "metadata": {},
   "outputs": [],
   "source": []
  }
 ],
 "metadata": {
  "kernelspec": {
   "display_name": "Python 3 (ipykernel)",
   "language": "python",
   "name": "python3"
  },
  "language_info": {
   "codemirror_mode": {
    "name": "ipython",
    "version": 3
   },
   "file_extension": ".py",
   "mimetype": "text/x-python",
   "name": "python",
   "nbconvert_exporter": "python",
   "pygments_lexer": "ipython3",
   "version": "3.12.7"
  }
 },
 "nbformat": 4,
 "nbformat_minor": 5
}
