{
 "cells": [
  {
   "cell_type": "markdown",
   "id": "eebdd363-5985-46c7-9f08-189ad321796c",
   "metadata": {},
   "source": [
    "# np.sort"
   ]
  },
  {
   "cell_type": "code",
   "execution_count": 5,
   "id": "c5ba5b35-d1b9-406d-99d5-fa993f5d199f",
   "metadata": {},
   "outputs": [],
   "source": [
    "import numpy as np"
   ]
  },
  {
   "cell_type": "code",
   "execution_count": 6,
   "id": "ace19a16-681d-42d7-9703-08cfa2e3e77c",
   "metadata": {},
   "outputs": [
    {
     "data": {
      "text/plain": [
       "array([ 4, 20, 68, 69, 52, 60, 72, 32, 39, 97, 11, 48, 88, 27,  8])"
      ]
     },
     "execution_count": 6,
     "metadata": {},
     "output_type": "execute_result"
    }
   ],
   "source": [
    "a=np.random.randint(1,100,15)\n",
    "a"
   ]
  },
  {
   "cell_type": "code",
   "execution_count": 7,
   "id": "69f51d84-4889-409d-9075-c70e4ff16cb0",
   "metadata": {},
   "outputs": [
    {
     "data": {
      "text/plain": [
       "array([[21, 83, 93, 19],\n",
       "       [70, 57, 93, 55],\n",
       "       [10, 61, 60,  3],\n",
       "       [19, 82, 60, 73],\n",
       "       [83, 16, 14, 88],\n",
       "       [33, 65, 85, 50]])"
      ]
     },
     "execution_count": 7,
     "metadata": {},
     "output_type": "execute_result"
    }
   ],
   "source": [
    "b=np.random.randint(1,100,24).reshape(6,4)\n",
    "b"
   ]
  },
  {
   "cell_type": "code",
   "execution_count": 8,
   "id": "b4f200d3-b4ff-4d71-90de-8f0b7d3afd97",
   "metadata": {},
   "outputs": [
    {
     "data": {
      "text/plain": [
       "array([ 4,  8, 11, 20, 27, 32, 39, 48, 52, 60, 68, 69, 72, 88, 97])"
      ]
     },
     "execution_count": 8,
     "metadata": {},
     "output_type": "execute_result"
    }
   ],
   "source": [
    "np.sort(a)"
   ]
  },
  {
   "cell_type": "code",
   "execution_count": 9,
   "id": "380a5f2b-d701-4447-b860-059263c2febc",
   "metadata": {},
   "outputs": [
    {
     "data": {
      "text/plain": [
       "array([[10, 16, 14,  3],\n",
       "       [19, 57, 60, 19],\n",
       "       [21, 61, 60, 50],\n",
       "       [33, 65, 85, 55],\n",
       "       [70, 82, 93, 73],\n",
       "       [83, 83, 93, 88]])"
      ]
     },
     "execution_count": 9,
     "metadata": {},
     "output_type": "execute_result"
    }
   ],
   "source": [
    "np.sort(b,axis=0)"
   ]
  },
  {
   "cell_type": "code",
   "execution_count": 10,
   "id": "536bdae1-5fa5-47e0-825a-13e6a625c4b4",
   "metadata": {},
   "outputs": [
    {
     "data": {
      "text/plain": [
       "array([[19, 21, 83, 93],\n",
       "       [55, 57, 70, 93],\n",
       "       [ 3, 10, 60, 61],\n",
       "       [19, 60, 73, 82],\n",
       "       [14, 16, 83, 88],\n",
       "       [33, 50, 65, 85]])"
      ]
     },
     "execution_count": 10,
     "metadata": {},
     "output_type": "execute_result"
    }
   ],
   "source": [
    "np.sort(b,axis=1)"
   ]
  },
  {
   "cell_type": "markdown",
   "id": "b23bb798-3f33-46a6-bfbd-54e73efa3a23",
   "metadata": {},
   "source": [
    "# np.concatenate"
   ]
  },
  {
   "cell_type": "code",
   "execution_count": 12,
   "id": "866f3331-2409-4695-b18b-882d29d15ec7",
   "metadata": {},
   "outputs": [],
   "source": [
    "c=np.arange(6).reshape(2,3)\n",
    "d=np.arange(6,12).reshape(2,3)"
   ]
  },
  {
   "cell_type": "code",
   "execution_count": 13,
   "id": "e257a1d8-53d3-4ce4-9f27-16f821a2b01c",
   "metadata": {},
   "outputs": [
    {
     "data": {
      "text/plain": [
       "array([[ 0,  1,  2],\n",
       "       [ 3,  4,  5],\n",
       "       [ 6,  7,  8],\n",
       "       [ 9, 10, 11]])"
      ]
     },
     "execution_count": 13,
     "metadata": {},
     "output_type": "execute_result"
    }
   ],
   "source": [
    "np.concatenate((c,d))"
   ]
  },
  {
   "cell_type": "code",
   "execution_count": 14,
   "id": "93f79576-c7a7-4b79-9c21-f828f6b2e4b2",
   "metadata": {},
   "outputs": [
    {
     "data": {
      "text/plain": [
       "array([[ 0,  1,  2,  6,  7,  8],\n",
       "       [ 3,  4,  5,  9, 10, 11]])"
      ]
     },
     "execution_count": 14,
     "metadata": {},
     "output_type": "execute_result"
    }
   ],
   "source": [
    "np.concatenate((c,d),axis=1)"
   ]
  },
  {
   "cell_type": "markdown",
   "id": "eb75616d-6daf-4c01-b1d1-3629ebcb27fc",
   "metadata": {},
   "source": [
    "# np.unique "
   ]
  },
  {
   "cell_type": "code",
   "execution_count": 16,
   "id": "fae61403-d05f-4de5-80c9-d9ce342e7719",
   "metadata": {},
   "outputs": [
    {
     "data": {
      "text/plain": [
       "array([  0,   1,   2,   3,   4,   5,  22,  24,  45, 111])"
      ]
     },
     "execution_count": 16,
     "metadata": {},
     "output_type": "execute_result"
    }
   ],
   "source": [
    "e=np.array([111,1,2,2,2,3,45,5,22,2,3.4,1,3,3,24,4,0],dtype=int)\n",
    "np.unique(e)"
   ]
  },
  {
   "cell_type": "markdown",
   "id": "44491675-7aa2-40f0-9347-cd93d43de1cb",
   "metadata": {},
   "source": [
    "# np.expand_dim"
   ]
  },
  {
   "cell_type": "code",
   "execution_count": 18,
   "id": "85bb6191-72d1-467f-9f83-ba165d995961",
   "metadata": {},
   "outputs": [
    {
     "data": {
      "text/plain": [
       "array([[1, 2, 3, 4, 5, 6, 7, 8, 9]])"
      ]
     },
     "execution_count": 18,
     "metadata": {},
     "output_type": "execute_result"
    }
   ],
   "source": [
    "a=np.array([1,2,3,4,5,6,7,8,9])\n",
    "np.expand_dims(a,axis=0)"
   ]
  },
  {
   "cell_type": "markdown",
   "id": "ffedf393-e481-45e5-a4dd-86df97a10545",
   "metadata": {},
   "source": [
    "# np.where"
   ]
  },
  {
   "cell_type": "code",
   "execution_count": 38,
   "id": "e44a9154-a9ed-490a-8af0-4fe3894cd03e",
   "metadata": {},
   "outputs": [
    {
     "data": {
      "text/plain": [
       "array([613, 542, 374,  29, 356, 934, 784, 247, 402, 759, 424, 763, 500,\n",
       "       532, 363, 149, 321, 599, 982, 436, 672, 875, 972, 377, 432, 527,\n",
       "        96, 217,  52, 384, 461, 318, 515, 893, 751, 884, 764, 625, 224,\n",
       "       805, 781, 201, 979, 408, 487, 667, 133, 245, 776, 771])"
      ]
     },
     "execution_count": 38,
     "metadata": {},
     "output_type": "execute_result"
    }
   ],
   "source": [
    "a=np.random.randint(1,1000,50)\n",
    "a"
   ]
  },
  {
   "cell_type": "markdown",
   "id": "3b31b145-84ba-487f-af99-642fa7dd5ecc",
   "metadata": {},
   "source": [
    "Selecting Elements from Two Arrays Based on a Condition\n",
    "numpy.where(condition, x, y)\n",
    "\n",
    "\n",
    "\n",
    "\n",
    "- **Parameters**:\n",
    "  - `condition`: A boolean array or condition that evaluates to `True` or `False`.\n",
    "  - `x`: An array from which to select values when the condition is `True`.\n",
    "  - `y`: An array from which to select values when the condition is `False`.\n",
    "\n",
    "- **Returns**: An array with elements from `x` where the condition is `True`, and elements from `y` where the condition is `False."
   ]
  },
  {
   "cell_type": "code",
   "execution_count": 46,
   "id": "81e2de59-7c58-407c-bf3c-dc1e8b1a4b69",
   "metadata": {},
   "outputs": [
    {
     "data": {
      "text/plain": [
       "array([ 1,  1,  1, 29,  1,  1,  1,  1,  1,  1,  1,  1,  1,  1,  1,  1,  1,\n",
       "        1,  1,  1,  1,  1,  1,  1,  1,  1,  1,  1,  1,  1,  1,  1,  1,  1,\n",
       "        1,  1,  1,  1,  1,  1,  1,  1,  1,  1,  1,  1,  1,  1,  1,  1])"
      ]
     },
     "execution_count": 46,
     "metadata": {},
     "output_type": "execute_result"
    }
   ],
   "source": [
    "np.where(a>50,True,a)"
   ]
  },
  {
   "cell_type": "code",
   "execution_count": null,
   "id": "c8d938df-7345-4026-9f88-a08068276c52",
   "metadata": {},
   "outputs": [],
   "source": []
  },
  {
   "cell_type": "markdown",
   "id": "b1e86ddc-f557-4c3b-a4d0-9c8accf036a8",
   "metadata": {},
   "source": [
    "### `numpy.argmax`\n",
    "\n",
    "The `numpy.argmax` function is used to find the indices of the maximum values along an axis in an array. It returns the index of the first occurrence of the maximum value."
   ]
  },
  {
   "cell_type": "code",
   "execution_count": 50,
   "id": "a69d4fe2-3eb4-4d35-8fc0-4d61891b25f8",
   "metadata": {},
   "outputs": [
    {
     "data": {
      "text/plain": [
       "18"
      ]
     },
     "execution_count": 50,
     "metadata": {},
     "output_type": "execute_result"
    }
   ],
   "source": [
    "np.argmax(a)"
   ]
  },
  {
   "cell_type": "markdown",
   "id": "ba6b6370-f72b-4f88-a871-14cd4e934e3f",
   "metadata": {},
   "source": [
    "### `numpy.argmin`\n",
    "\n",
    "The `numpy.argmim` function is used to find the indices of the min values along an axis in an array. It returns the index of the first occurrence of the maximum value."
   ]
  },
  {
   "cell_type": "code",
   "execution_count": 56,
   "id": "c722584f-8201-4b85-8d33-fe1737b76b5f",
   "metadata": {},
   "outputs": [
    {
     "data": {
      "text/plain": [
       "3"
      ]
     },
     "execution_count": 56,
     "metadata": {},
     "output_type": "execute_result"
    }
   ],
   "source": [
    "np.argmin(a)"
   ]
  },
  {
   "cell_type": "code",
   "execution_count": null,
   "id": "607d7774-384f-44f3-9275-3feee5e1a9d9",
   "metadata": {},
   "outputs": [],
   "source": []
  },
  {
   "cell_type": "code",
   "execution_count": null,
   "id": "c7b359c6-1ded-4dac-9088-8289ec5a8d07",
   "metadata": {},
   "outputs": [],
   "source": []
  },
  {
   "cell_type": "markdown",
   "id": "13f40dc6-8891-498d-8db7-902d19d8037d",
   "metadata": {},
   "source": [
    "### `numpy.cumsum`\n",
    "\n",
    "The `numpy.cumsum` function computes the cumulative sum of the elements along a given axis. It returns an array of the same shape as the input array, where each element at index `i` is the sum of the elements from the start of the array to index `i`.\n",
    "\n",
    "#### Syntax\n",
    "numpy.cumsum(a, axis=None, dtype=None, out=None)"
   ]
  },
  {
   "cell_type": "code",
   "execution_count": 58,
   "id": "010ed13f-9cf2-4346-8c79-3388e475a221",
   "metadata": {},
   "outputs": [
    {
     "data": {
      "text/plain": [
       "array([  613,  1155,  1529,  1558,  1914,  2848,  3632,  3879,  4281,\n",
       "        5040,  5464,  6227,  6727,  7259,  7622,  7771,  8092,  8691,\n",
       "        9673, 10109, 10781, 11656, 12628, 13005, 13437, 13964, 14060,\n",
       "       14277, 14329, 14713, 15174, 15492, 16007, 16900, 17651, 18535,\n",
       "       19299, 19924, 20148, 20953, 21734, 21935, 22914, 23322, 23809,\n",
       "       24476, 24609, 24854, 25630, 26401])"
      ]
     },
     "execution_count": 58,
     "metadata": {},
     "output_type": "execute_result"
    }
   ],
   "source": [
    "np.cumsum(a)"
   ]
  },
  {
   "cell_type": "code",
   "execution_count": 67,
   "id": "9c138930-d509-4d2e-9ed4-5c52bf908e99",
   "metadata": {},
   "outputs": [
    {
     "data": {
      "text/plain": [
       "array([[55, 99,  9, 60, 24, 78],\n",
       "       [53, 26, 78, 30, 17, 86],\n",
       "       [52, 71, 49, 13, 66, 87],\n",
       "       [61, 88, 72, 92, 94, 75],\n",
       "       [ 2, 65, 93, 34, 97, 86]])"
      ]
     },
     "execution_count": 67,
     "metadata": {},
     "output_type": "execute_result"
    }
   ],
   "source": [
    "b=np.random.randint(1,100,30).reshape(5,6)\n",
    "b"
   ]
  },
  {
   "cell_type": "code",
   "execution_count": 69,
   "id": "9a4131b2-755a-4a81-aafc-5054c1c73e5b",
   "metadata": {},
   "outputs": [
    {
     "data": {
      "text/plain": [
       "array([[ 55,  99,   9,  60,  24,  78],\n",
       "       [108, 125,  87,  90,  41, 164],\n",
       "       [160, 196, 136, 103, 107, 251],\n",
       "       [221, 284, 208, 195, 201, 326],\n",
       "       [223, 349, 301, 229, 298, 412]])"
      ]
     },
     "execution_count": 69,
     "metadata": {},
     "output_type": "execute_result"
    }
   ],
   "source": [
    "np.cumsum(b,axis=0)"
   ]
  },
  {
   "cell_type": "code",
   "execution_count": 71,
   "id": "b04707e9-7aaa-40af-b5e5-bc2c12fc51d4",
   "metadata": {},
   "outputs": [
    {
     "data": {
      "text/plain": [
       "array([[ 55, 154, 163, 223, 247, 325],\n",
       "       [ 53,  79, 157, 187, 204, 290],\n",
       "       [ 52, 123, 172, 185, 251, 338],\n",
       "       [ 61, 149, 221, 313, 407, 482],\n",
       "       [  2,  67, 160, 194, 291, 377]])"
      ]
     },
     "execution_count": 71,
     "metadata": {},
     "output_type": "execute_result"
    }
   ],
   "source": [
    "np.cumsum(b,axis=1)"
   ]
  },
  {
   "cell_type": "markdown",
   "id": "a05e7bf8-2a84-4b99-96bc-fde8fd84dd03",
   "metadata": {},
   "source": [
    "### `numpy.percentile`\n",
    "\n",
    "The `numpy.percentile` function is used to compute the nth percentile of the given data along a specified axis. A percentile is a measure used in statistics indicating the value below which a given percentage of observations in a group of observations falls.\n",
    "\n",
    "### Syntax\n",
    "numpy.percentile(a, q, axis=None, out=None, overwrite_input=False, interpolation='linear')\n",
    "\n",
    "\n",
    "\n",
    "\n",
    "- **Parameters**:\n",
    "  - `a`: Input array or object that can be converted to an array.\n",
    "  - `q`: The percentile or sequence of percentiles to compute, which must be in the range [0, 100].\n",
    "  - `axis`: Axis along which the percentiles are computed. By default, it flattens the array.\n",
    "  - `out`: Optional output array to store the result.\n",
    "  - `overwrite_input`: If True, allows the input array to be modified in place. This can save memory but may lead to loss of the original data.\n",
    "  - `interpolation`: This parameter determines the interpolation method to use when the desired percentile lies between two data points. Options include:\n",
    "    - `'linear'`: Default method.\n",
    "    - `'lower'`: Returns the lower data point.\n",
    "    - `'higher'`: Returns the higher data point.\n",
    "    - `'nearest'`: Returns the nearest data point.\n",
    "    - `'midpoint'`: Returns the average of the two data points.\n",
    "\n",
    "- **Returns**: The computed percentile(s) as a scalar or an array, depending on the input."
   ]
  },
  {
   "cell_type": "code",
   "execution_count": 74,
   "id": "d7388b71-759c-46ff-8760-5054ae53e746",
   "metadata": {},
   "outputs": [
    {
     "data": {
      "text/plain": [
       "array([613, 542, 374,  29, 356, 934, 784, 247, 402, 759, 424, 763, 500,\n",
       "       532, 363, 149, 321, 599, 982, 436, 672, 875, 972, 377, 432, 527,\n",
       "        96, 217,  52, 384, 461, 318, 515, 893, 751, 884, 764, 625, 224,\n",
       "       805, 781, 201, 979, 408, 487, 667, 133, 245, 776, 771])"
      ]
     },
     "execution_count": 74,
     "metadata": {},
     "output_type": "execute_result"
    }
   ],
   "source": [
    "a"
   ]
  },
  {
   "cell_type": "code",
   "execution_count": 76,
   "id": "b91f8f67-d994-4631-99e6-ac0d1b02f950",
   "metadata": {},
   "outputs": [
    {
     "data": {
      "text/plain": [
       "507.5"
      ]
     },
     "execution_count": 76,
     "metadata": {},
     "output_type": "execute_result"
    }
   ],
   "source": [
    "np.percentile(a,50)"
   ]
  },
  {
   "cell_type": "code",
   "execution_count": 78,
   "id": "4c1ba739-534e-479c-8c84-9ff63448b674",
   "metadata": {},
   "outputs": [
    {
     "data": {
      "text/plain": [
       "507.5"
      ]
     },
     "execution_count": 78,
     "metadata": {},
     "output_type": "execute_result"
    }
   ],
   "source": [
    "np.median(a)"
   ]
  },
  {
   "cell_type": "markdown",
   "id": "9e364f58-1df7-4b1b-b363-0bb9599416c9",
   "metadata": {},
   "source": [
    "### `numpy.histogram`"
   ]
  },
  {
   "cell_type": "code",
   "execution_count": 87,
   "id": "bc0b940f-9603-48dc-ab34-cf4013b4bf7c",
   "metadata": {},
   "outputs": [
    {
     "data": {
      "text/plain": [
       "(array([3, 0], dtype=int64), array([  0, 100, 100]))"
      ]
     },
     "execution_count": 87,
     "metadata": {},
     "output_type": "execute_result"
    }
   ],
   "source": [
    "np.histogram(a,bins=[0,100,100])"
   ]
  },
  {
   "cell_type": "markdown",
   "id": "a6260dcd-68f5-4a56-a709-78220458929c",
   "metadata": {},
   "source": [
    "### `numpy.corrcoef`\n",
    "The `numpy.corrcoef` function computes the correlation coefficients between two or more datasets. It returns a matrix of correlation coefficients, which indicates the strength and direction of the linear relationship between the datasets.\n",
    "\n",
    "### Syntax\n",
    "numpy.corrcoef(x, y=None, rowvar=True, bias=False, ddof=None)\n",
    "\n",
    "\n",
    "\n",
    "\n",
    "- **Parameters**:\n",
    "  - `x`: A 1D or 2D array containing the data. If `y` is not provided, `x` is treated as a 2D array where each row represents a variable and each column represents an observation.\n",
    "  - `y`: An optional second dataset. If provided, it should be of the same length as the rows of `x`.\n",
    "  - `rowvar`: If `True` (default), each row represents a variable, and each column represents an observation. If `False`, the roles are reversed.\n",
    "  - `bias`: If `True`, the normalization is by `N` (the number of observations). If `False` (default), normalization is by `N-1`, which provides an unbiased estimate.\n",
    "  - `ddof`: If specified, it is used in the calculation of the standard deviation.\n",
    "\n",
    "- **Returns**: A 2D array of correlation coefficients. The element at the i-th row and j-th column represents the correlation coefficient between the i-th and j-th variables."
   ]
  },
  {
   "cell_type": "code",
   "execution_count": 94,
   "id": "9b765df9-7240-4f2f-ae8a-97536e149a00",
   "metadata": {},
   "outputs": [],
   "source": [
    "salary=np.array([20000,40000,25000,35000,600000])\n",
    "experience=np.array([1,2,3,4,5])"
   ]
  },
  {
   "cell_type": "code",
   "execution_count": 96,
   "id": "b49dad88-7b1b-446b-bbc0-1a445bedc0da",
   "metadata": {},
   "outputs": [
    {
     "data": {
      "text/plain": [
       "array([[1.        , 0.71606653],\n",
       "       [0.71606653, 1.        ]])"
      ]
     },
     "execution_count": 96,
     "metadata": {},
     "output_type": "execute_result"
    }
   ],
   "source": [
    "np.corrcoef(salary,experience)"
   ]
  },
  {
   "cell_type": "markdown",
   "id": "4b636ee1-38de-4c3e-b36b-208effba3b98",
   "metadata": {},
   "source": [
    "### `numpy.isin`\n",
    "The `numpy.isin` function is used to test whether elements of one array are present in another array. It returns a boolean array of the same shape as the first array, indicating whether each element is found in the second array.\n",
    "\n",
    "### Syntax\n",
    "numpy.isin(element, test_elements, assume_unique=False, invert=False)\n",
    "\n",
    "\n",
    "\n",
    "\n",
    "- **Parameters**:\n",
    "  - `element`: The input array containing the values to be tested.\n",
    "  - `test_elements`: The array of values against which to test the elements of the first array.\n",
    "  - `assume_unique`: If `True`, the input arrays are assumed to be unique, which can speed up the operation. Default is `False`.\n",
    "  - `invert`: If `True`, the boolean array is inverted (i.e., `True` becomes `False` and vice versa). Default is `False`.\n",
    "\n",
    "- **Returns**: A boolean array of the same shape as `element`, where each entry is `True` if the corresponding element is found in `test_elements`, and `False` otherwise."
   ]
  },
  {
   "cell_type": "code",
   "execution_count": 101,
   "id": "c5f85d6d-09bb-4f7e-8c7e-a387d33e5b2f",
   "metadata": {},
   "outputs": [
    {
     "data": {
      "text/plain": [
       "array([86, 89, 14, 86, 91, 27, 36, 63, 55, 56])"
      ]
     },
     "execution_count": 101,
     "metadata": {},
     "output_type": "execute_result"
    }
   ],
   "source": [
    "a=np.random.randint(0,100,10)\n",
    "a"
   ]
  },
  {
   "cell_type": "code",
   "execution_count": 115,
   "id": "a74d561e-fde7-452d-9ec0-8b0c7612f529",
   "metadata": {},
   "outputs": [],
   "source": [
    "items=[89,5,91,27,34,2342,234,2]"
   ]
  },
  {
   "cell_type": "code",
   "execution_count": 189,
   "id": "2200a682-c6f3-4d3a-bbe3-08c7a7906346",
   "metadata": {},
   "outputs": [
    {
     "data": {
      "text/plain": [
       "array([89, 91, 27])"
      ]
     },
     "execution_count": 189,
     "metadata": {},
     "output_type": "execute_result"
    }
   ],
   "source": [
    "a[np.isin(a,items)]"
   ]
  },
  {
   "cell_type": "markdown",
   "id": "2a17b3ba-3afe-4cb7-b76d-fc712606a730",
   "metadata": {},
   "source": [
    "### `numpy.flip`\n",
    "\n",
    "The `numpy.flip` function is used to reverse the order of elements in an array along a specified axis. This can be useful for various data manipulation tasks.\n",
    "\n",
    "### Syntax\n",
    "numpy.flip(m, axis=None)\n",
    "\n",
    "Run code in Notebook\n",
    "\n",
    "\n",
    "\n",
    "- **Parameters**:\n",
    "  - `m`: Input array to be flipped.\n",
    "  - `axis`: Axis or axes along which to flip the input array. By default, it flips the array along all axes.\n",
    "\n",
    "- **Returns**: A new array with the same shape and type as `m`, with the specified axes flipped."
   ]
  },
  {
   "cell_type": "code",
   "execution_count": 198,
   "id": "bc9168a0-4a4f-4aab-a7e8-383fb35f294f",
   "metadata": {},
   "outputs": [
    {
     "name": "stderr",
     "output_type": "stream",
     "text": [
      "ic| a: array([86, 89, 14, 86, 91, 27, 36, 63, 55, 56])\n"
     ]
    },
    {
     "data": {
      "text/plain": [
       "array([56, 55, 63, 36, 27, 91, 86, 14, 89, 86])"
      ]
     },
     "execution_count": 198,
     "metadata": {},
     "output_type": "execute_result"
    }
   ],
   "source": [
    "from icecream import ic\n",
    "ic(a)\n",
    "np.flip(a)"
   ]
  },
  {
   "cell_type": "code",
   "execution_count": 202,
   "id": "6a7c8a26-43d4-4ea4-be44-6f32178ea7e5",
   "metadata": {},
   "outputs": [
    {
     "name": "stderr",
     "output_type": "stream",
     "text": [
      "ic| b: array([[55, 99,  9, 60, 24, 78],\n",
      "              [53, 26, 78, 30, 17, 86],\n",
      "              [52, 71, 49, 13, 66, 87],\n",
      "              [61, 88, 72, 92, 94, 75],\n",
      "              [ 2, 65, 93, 34, 97, 86]])\n"
     ]
    },
    {
     "data": {
      "text/plain": [
       "array([[86, 97, 34, 93, 65,  2],\n",
       "       [75, 94, 92, 72, 88, 61],\n",
       "       [87, 66, 13, 49, 71, 52],\n",
       "       [86, 17, 30, 78, 26, 53],\n",
       "       [78, 24, 60,  9, 99, 55]])"
      ]
     },
     "execution_count": 202,
     "metadata": {},
     "output_type": "execute_result"
    }
   ],
   "source": [
    "ic(b)\n",
    "np.flip(b)"
   ]
  },
  {
   "cell_type": "code",
   "execution_count": 204,
   "id": "7e5cd182-64db-4de2-842e-ebd0fd2ce592",
   "metadata": {},
   "outputs": [
    {
     "name": "stderr",
     "output_type": "stream",
     "text": [
      "ic| b: array([[55, 99,  9, 60, 24, 78],\n",
      "              [53, 26, 78, 30, 17, 86],\n",
      "              [52, 71, 49, 13, 66, 87],\n",
      "              [61, 88, 72, 92, 94, 75],\n",
      "              [ 2, 65, 93, 34, 97, 86]])\n"
     ]
    },
    {
     "data": {
      "text/plain": [
       "array([[ 2, 65, 93, 34, 97, 86],\n",
       "       [61, 88, 72, 92, 94, 75],\n",
       "       [52, 71, 49, 13, 66, 87],\n",
       "       [53, 26, 78, 30, 17, 86],\n",
       "       [55, 99,  9, 60, 24, 78]])"
      ]
     },
     "execution_count": 204,
     "metadata": {},
     "output_type": "execute_result"
    }
   ],
   "source": [
    "ic(b)\n",
    "np.flip(b,axis=0)  # column filp"
   ]
  },
  {
   "cell_type": "code",
   "execution_count": 206,
   "id": "3b10dc7d-a2f2-430c-8f86-dee34ca164a6",
   "metadata": {},
   "outputs": [
    {
     "name": "stderr",
     "output_type": "stream",
     "text": [
      "ic| b: array([[55, 99,  9, 60, 24, 78],\n",
      "              [53, 26, 78, 30, 17, 86],\n",
      "              [52, 71, 49, 13, 66, 87],\n",
      "              [61, 88, 72, 92, 94, 75],\n",
      "              [ 2, 65, 93, 34, 97, 86]])\n"
     ]
    },
    {
     "data": {
      "text/plain": [
       "array([[78, 24, 60,  9, 99, 55],\n",
       "       [86, 17, 30, 78, 26, 53],\n",
       "       [87, 66, 13, 49, 71, 52],\n",
       "       [75, 94, 92, 72, 88, 61],\n",
       "       [86, 97, 34, 93, 65,  2]])"
      ]
     },
     "execution_count": 206,
     "metadata": {},
     "output_type": "execute_result"
    }
   ],
   "source": [
    "ic(b)\n",
    "np.flip(b,axis=1)  # row filp"
   ]
  },
  {
   "cell_type": "markdown",
   "id": "47a1f26b-724c-48e6-92f0-784215af63e7",
   "metadata": {},
   "source": [
    "### `numpy.put`\n",
    "The `numpy.put` function is used to insert values into an array at specified indices. It allows you to modify an existing array by placing new values at the given positions.\n",
    "\n",
    "### Syntax\n",
    "numpy.put(a, ind, v, mode='raise')\n",
    "\n",
    "\n",
    "\n",
    "\n",
    "- **Parameters**:\n",
    "  - `a`: The input array in which values will be placed.\n",
    "  - `ind`: The indices at which to place the values. This can be a single index or an array of indices.\n",
    "  - `v`: The values to be inserted into the array at the specified indices. The length of `v` should match the length of `ind`.\n",
    "  - `mode`: This parameter determines how to handle out-of-bounds indices. It can take the following values:\n",
    "    - `'raise'`: (default) Raises an error if an index is out of bounds.\n",
    "    - `'wrap'`: Wraps around the index if it is out of bounds.\n",
    "    - `'clip'`: Clips the index to the valid range.\n",
    "\n",
    "- **Returns**: The modified array with the specified values inserted at the given indices."
   ]
  },
  {
   "cell_type": "code",
   "execution_count": 209,
   "id": "96fbbaf3-d7bf-4fb3-b8e4-b687d6a0790b",
   "metadata": {},
   "outputs": [
    {
     "data": {
      "text/plain": [
       "array([86, 89, 14, 86, 91, 27, 36, 63, 55, 56])"
      ]
     },
     "execution_count": 209,
     "metadata": {},
     "output_type": "execute_result"
    }
   ],
   "source": [
    "a"
   ]
  },
  {
   "cell_type": "code",
   "execution_count": 215,
   "id": "f5ea63f9-227d-47c5-a1d8-122f17a49b8a",
   "metadata": {},
   "outputs": [],
   "source": [
    "np.put(a,[0,1],[110,555])   # modifying the original array."
   ]
  },
  {
   "cell_type": "code",
   "execution_count": 217,
   "id": "6f97f006-10e0-4a80-8578-ce7b84f097cf",
   "metadata": {},
   "outputs": [
    {
     "data": {
      "text/plain": [
       "array([110, 555,  14,  86,  91,  27,  36,  63,  55,  56])"
      ]
     },
     "execution_count": 217,
     "metadata": {},
     "output_type": "execute_result"
    }
   ],
   "source": [
    "a"
   ]
  },
  {
   "cell_type": "code",
   "execution_count": null,
   "id": "8112df9d-ad5c-41ca-a33a-d3d0e89d73ef",
   "metadata": {},
   "outputs": [],
   "source": []
  }
 ],
 "metadata": {
  "kernelspec": {
   "display_name": "Python 3 (ipykernel)",
   "language": "python",
   "name": "python3"
  },
  "language_info": {
   "codemirror_mode": {
    "name": "ipython",
    "version": 3
   },
   "file_extension": ".py",
   "mimetype": "text/x-python",
   "name": "python",
   "nbconvert_exporter": "python",
   "pygments_lexer": "ipython3",
   "version": "3.12.7"
  }
 },
 "nbformat": 4,
 "nbformat_minor": 5
}
