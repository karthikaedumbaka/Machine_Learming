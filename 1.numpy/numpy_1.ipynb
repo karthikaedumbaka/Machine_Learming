{
 "cells": [
  {
   "cell_type": "code",
   "execution_count": 43,
   "id": "e6ade63d-7977-47cf-b2d8-f6b939ff6bd4",
   "metadata": {},
   "outputs": [
    {
     "name": "stdout",
     "output_type": "stream",
     "text": [
      "Requirement already satisfied: icecream in c:\\users\\karth\\anaconda3\\lib\\site-packages (2.1.3)\n",
      "Requirement already satisfied: colorama>=0.3.9 in c:\\users\\karth\\anaconda3\\lib\\site-packages (from icecream) (0.4.6)\n",
      "Requirement already satisfied: pygments>=2.2.0 in c:\\users\\karth\\anaconda3\\lib\\site-packages (from icecream) (2.15.1)\n",
      "Requirement already satisfied: executing>=0.3.1 in c:\\users\\karth\\appdata\\roaming\\python\\python312\\site-packages (from icecream) (2.0.1)\n",
      "Requirement already satisfied: asttokens>=2.0.1 in c:\\users\\karth\\appdata\\roaming\\python\\python312\\site-packages (from icecream) (2.4.1)\n",
      "Requirement already satisfied: six>=1.12.0 in c:\\users\\karth\\anaconda3\\lib\\site-packages (from asttokens>=2.0.1->icecream) (1.16.0)\n"
     ]
    }
   ],
   "source": [
    "import numpy as np\n",
    "get_ipython().system('pip install icecream')\n",
    "from icecream import ic\n",
    " "
   ]
  },
  {
   "cell_type": "code",
   "execution_count": 44,
   "id": "17e079ec-758c-4363-a828-12c38039f935",
   "metadata": {},
   "outputs": [
    {
     "data": {
      "text/plain": [
       "1"
      ]
     },
     "execution_count": 44,
     "metadata": {},
     "output_type": "execute_result"
    }
   ],
   "source": [
    "a=np.array([1,2,3,4,5])\n",
    "a.ndim   #vector"
   ]
  },
  {
   "cell_type": "code",
   "execution_count": 45,
   "id": "31d4ffef-a81d-48d2-b1e9-c7149e2ffef8",
   "metadata": {},
   "outputs": [
    {
     "data": {
      "text/plain": [
       "2"
      ]
     },
     "execution_count": 45,
     "metadata": {},
     "output_type": "execute_result"
    }
   ],
   "source": [
    "#2d and 3d\n",
    "b=np.array([[1,2,3],[4,5,6]])\n",
    "b.ndim #matix"
   ]
  },
  {
   "cell_type": "code",
   "execution_count": 46,
   "id": "4366e615-dfa0-4104-8a17-d2618c5ce1b4",
   "metadata": {},
   "outputs": [
    {
     "name": "stderr",
     "output_type": "stream",
     "text": [
      "ic| c.ndim: 3\n",
      "ic| c.dtype: dtype('int32')\n"
     ]
    },
    {
     "data": {
      "text/plain": [
       "dtype('int32')"
      ]
     },
     "execution_count": 46,
     "metadata": {},
     "output_type": "execute_result"
    }
   ],
   "source": [
    "c=np.array([[[1,2,3],[3,4,5]],[[6,7,8],[8,9,0]]])\n",
    "ic(c.ndim) #tensor\n",
    "ic(c.dtype) #it will show the type of the element"
   ]
  },
  {
   "cell_type": "code",
   "execution_count": 47,
   "id": "936af4bb-eec0-4a94-b2bb-baecb528d619",
   "metadata": {},
   "outputs": [
    {
     "data": {
      "text/plain": [
       "array([[[1., 2., 3.],\n",
       "        [3., 4., 5.]],\n",
       "\n",
       "       [[6., 7., 8.],\n",
       "        [8., 9., 0.]]])"
      ]
     },
     "execution_count": 47,
     "metadata": {},
     "output_type": "execute_result"
    }
   ],
   "source": [
    "# dtype\n",
    "c.astype(float)"
   ]
  },
  {
   "cell_type": "code",
   "execution_count": 48,
   "id": "08c620a0-5c34-4fba-afee-ce239dc517ee",
   "metadata": {},
   "outputs": [
    {
     "name": "stderr",
     "output_type": "stream",
     "text": [
      "ic| d: array([[ True,  True,  True],\n",
      "              [ True,  True, False]])\n"
     ]
    },
    {
     "data": {
      "text/plain": [
       "array([[ True,  True,  True],\n",
       "       [ True,  True, False]])"
      ]
     },
     "execution_count": 48,
     "metadata": {},
     "output_type": "execute_result"
    }
   ],
   "source": [
    "d=np.array([[-1,2,3],[4,5,0]],dtype=bool)\n",
    "ic(d)"
   ]
  },
  {
   "cell_type": "code",
   "execution_count": 49,
   "id": "3d1710f2-092d-45ec-9efc-084204fee882",
   "metadata": {},
   "outputs": [
    {
     "data": {
      "text/plain": [
       "array([0, 2, 4, 6, 8])"
      ]
     },
     "execution_count": 49,
     "metadata": {},
     "output_type": "execute_result"
    }
   ],
   "source": [
    "#arange ....it will act like range \n",
    "np.arange(0,10,2)"
   ]
  },
  {
   "cell_type": "code",
   "execution_count": 50,
   "id": "c40a2daa-7f8a-4088-9d08-4a635244d0d9",
   "metadata": {},
   "outputs": [
    {
     "data": {
      "text/plain": [
       "array([0., 2., 4., 6., 8.])"
      ]
     },
     "execution_count": 50,
     "metadata": {},
     "output_type": "execute_result"
    }
   ],
   "source": [
    "np.arange(0,10,2).astype(float)   # to change the dtype"
   ]
  },
  {
   "cell_type": "code",
   "execution_count": 51,
   "id": "99f98ff6-cf1b-45cc-821b-a004adb69806",
   "metadata": {},
   "outputs": [
    {
     "data": {
      "text/plain": [
       "array([[0, 1, 2, 3, 4],\n",
       "       [5, 6, 7, 8, 9]])"
      ]
     },
     "execution_count": 51,
     "metadata": {},
     "output_type": "execute_result"
    }
   ],
   "source": [
    "# reshape # to change the shape \n",
    "np.arange(0,10).reshape([2,5])   # 2 x 5 = 10  ;;;;; 10 is equal to total number of elements\n",
    " \n",
    " "
   ]
  },
  {
   "cell_type": "code",
   "execution_count": 52,
   "id": "f582cf42-2655-4ecc-8e5d-b9f9cb859558",
   "metadata": {},
   "outputs": [
    {
     "data": {
      "text/plain": [
       "array([[1., 1., 1., 1.],\n",
       "       [1., 1., 1., 1.],\n",
       "       [1., 1., 1., 1.]])"
      ]
     },
     "execution_count": 52,
     "metadata": {},
     "output_type": "execute_result"
    }
   ],
   "source": [
    "#np.ones and np.zeros\n",
    "np.ones([3,4])\n",
    " "
   ]
  },
  {
   "cell_type": "code",
   "execution_count": 53,
   "id": "808d5ef5-6c38-4de2-a0ee-fdfe1af06497",
   "metadata": {},
   "outputs": [
    {
     "data": {
      "text/plain": [
       "array([[1, 1, 1, 1],\n",
       "       [1, 1, 1, 1],\n",
       "       [1, 1, 1, 1]])"
      ]
     },
     "execution_count": 53,
     "metadata": {},
     "output_type": "execute_result"
    }
   ],
   "source": [
    " \n",
    "np.ones([3,4],dtype=int)"
   ]
  },
  {
   "cell_type": "code",
   "execution_count": 54,
   "id": "8e4fc4d2-4193-4602-a136-1815deb93171",
   "metadata": {},
   "outputs": [
    {
     "data": {
      "text/plain": [
       "array([[False, False, False, False],\n",
       "       [False, False, False, False],\n",
       "       [False, False, False, False],\n",
       "       [False, False, False, False],\n",
       "       [False, False, False, False]])"
      ]
     },
     "execution_count": 54,
     "metadata": {},
     "output_type": "execute_result"
    }
   ],
   "source": [
    "np.zeros([5,4],dtype=bool)\n",
    " "
   ]
  },
  {
   "cell_type": "code",
   "execution_count": 55,
   "id": "82c684b3-c07b-442d-9116-47aa0b507002",
   "metadata": {},
   "outputs": [
    {
     "data": {
      "text/plain": [
       "array([[0.31847875, 0.74581341, 0.41085657],\n",
       "       [0.91182795, 0.83735303, 0.00351634]])"
      ]
     },
     "execution_count": 55,
     "metadata": {},
     "output_type": "execute_result"
    }
   ],
   "source": [
    "# np.random \n",
    "np.random.random((2,3))"
   ]
  },
  {
   "cell_type": "code",
   "execution_count": 56,
   "id": "2a5c60f1-2683-4a9c-8620-585eb62084a1",
   "metadata": {},
   "outputs": [
    {
     "data": {
      "text/plain": [
       "array([[4, 0, 0],\n",
       "       [3, 4, 2],\n",
       "       [4, 1, 1],\n",
       "       [2, 0, 1],\n",
       "       [0, 1, 1]])"
      ]
     },
     "execution_count": 56,
     "metadata": {},
     "output_type": "execute_result"
    }
   ],
   "source": [
    "np.random.randint(5, size=(5,3))"
   ]
  },
  {
   "cell_type": "code",
   "execution_count": 57,
   "id": "7ea9a31b-2f2f-42a7-bf5d-8d94a5c7b236",
   "metadata": {},
   "outputs": [
    {
     "data": {
      "text/plain": [
       "array([ 5.        ,  5.26315789,  5.52631579,  5.78947368,  6.05263158,\n",
       "        6.31578947,  6.57894737,  6.84210526,  7.10526316,  7.36842105,\n",
       "        7.63157895,  7.89473684,  8.15789474,  8.42105263,  8.68421053,\n",
       "        8.94736842,  9.21052632,  9.47368421,  9.73684211, 10.        ])"
      ]
     },
     "execution_count": 57,
     "metadata": {},
     "output_type": "execute_result"
    }
   ],
   "source": [
    "# np.linespace       ;;;; it will give linerly sapteare value in a range\n",
    "np.linspace(5,10,20)"
   ]
  },
  {
   "cell_type": "code",
   "execution_count": 58,
   "id": "9a7a6747-5ea3-4bd5-8e36-fc9be0da0a1c",
   "metadata": {},
   "outputs": [
    {
     "data": {
      "text/plain": [
       "array([[1, 0, 0, 0, 0, 0, 0, 0],\n",
       "       [0, 1, 0, 0, 0, 0, 0, 0],\n",
       "       [0, 0, 1, 0, 0, 0, 0, 0],\n",
       "       [0, 0, 0, 1, 0, 0, 0, 0],\n",
       "       [0, 0, 0, 0, 1, 0, 0, 0],\n",
       "       [0, 0, 0, 0, 0, 1, 0, 0],\n",
       "       [0, 0, 0, 0, 0, 0, 1, 0],\n",
       "       [0, 0, 0, 0, 0, 0, 0, 1]])"
      ]
     },
     "execution_count": 58,
     "metadata": {},
     "output_type": "execute_result"
    }
   ],
   "source": [
    "#np.identity ;;;;; to make identity matix\n",
    "np.identity(8,dtype=int)"
   ]
  },
  {
   "cell_type": "markdown",
   "id": "6f853385-e436-4774-b5e8-a79575e0bdd4",
   "metadata": {},
   "source": [
    " # # Array Attibutes\n",
    "\n",
    " "
   ]
  },
  {
   "cell_type": "code",
   "execution_count": 60,
   "id": "f325044e-d898-427a-88c5-a76ea9cbe602",
   "metadata": {},
   "outputs": [],
   "source": [
    "# Create a 1D array 'a1' with values ranging from 0 to 9\n",
    "a1 = np.arange(10)\n",
    "\n",
    "# Create a 2D array 'a2' with values ranging from 12 to 23, reshaped into a 3x4 matrix\n",
    "a2 = np.arange(12, dtype=float).reshape(3, 4)\n",
    "\n",
    "# Create a 3D array 'a3' with values ranging from 0 to 7, reshaped into a 2x2x2 tensor\n",
    "a3 = np.arange(8).reshape(2, 2, 2)"
   ]
  },
  {
   "cell_type": "code",
   "execution_count": 61,
   "id": "beec663a-c0e3-4aeb-8d6e-1679d82ca163",
   "metadata": {},
   "outputs": [
    {
     "name": "stderr",
     "output_type": "stream",
     "text": [
      "ic| a3: array([[[0, 1],\n",
      "                [2, 3]],\n",
      "        \n",
      "               [[4, 5],\n",
      "                [6, 7]]])\n"
     ]
    },
    {
     "data": {
      "text/plain": [
       "array([[[0, 1],\n",
       "        [2, 3]],\n",
       "\n",
       "       [[4, 5],\n",
       "        [6, 7]]])"
      ]
     },
     "execution_count": 61,
     "metadata": {},
     "output_type": "execute_result"
    }
   ],
   "source": [
    "ic(a3)"
   ]
  },
  {
   "cell_type": "code",
   "execution_count": 62,
   "id": "b7da1115-bdfe-48f1-a37c-a5369253f699",
   "metadata": {},
   "outputs": [
    {
     "name": "stderr",
     "output_type": "stream",
     "text": [
      "ic| a3.ndim: 3\n",
      "ic| a3.shape: (2, 2, 2)\n"
     ]
    },
    {
     "data": {
      "text/plain": [
       "(2, 2, 2)"
      ]
     },
     "execution_count": 62,
     "metadata": {},
     "output_type": "execute_result"
    }
   ],
   "source": [
    "#ndim and shape\n",
    "ic(a3.ndim)\n",
    "ic(a3.shape)"
   ]
  },
  {
   "cell_type": "code",
   "execution_count": 63,
   "id": "20b3de1b-7543-4709-91b6-c5ed1d8cfb65",
   "metadata": {},
   "outputs": [
    {
     "name": "stderr",
     "output_type": "stream",
     "text": [
      "ic| a3.size: 8\n",
      "ic| a2.size: 12\n"
     ]
    },
    {
     "data": {
      "text/plain": [
       "12"
      ]
     },
     "execution_count": 63,
     "metadata": {},
     "output_type": "execute_result"
    }
   ],
   "source": [
    "#size\n",
    "ic(a3.size)\n",
    "ic(a2.size)"
   ]
  },
  {
   "cell_type": "code",
   "execution_count": 64,
   "id": "306a93f5-3042-438f-bfe8-f861cb0b1554",
   "metadata": {},
   "outputs": [
    {
     "name": "stderr",
     "output_type": "stream",
     "text": [
      "ic| a3.itemsize: 4\n",
      "ic| a3.dtype: dtype('int32')\n",
      "ic| a2.itemsize: 8\n",
      "ic| a2.dtype: dtype('float64')\n"
     ]
    },
    {
     "data": {
      "text/plain": [
       "dtype('float64')"
      ]
     },
     "execution_count": 64,
     "metadata": {},
     "output_type": "execute_result"
    }
   ],
   "source": [
    "#itemsize\n",
    "ic(a3.itemsize) #INT\n",
    "ic(a3.dtype)\n",
    "ic(a2.itemsize) #float\n",
    "ic(a2.dtype)\n",
    " "
   ]
  },
  {
   "cell_type": "code",
   "execution_count": 65,
   "id": "5ecc15e5-acc2-4d7b-ac1c-a77395143d72",
   "metadata": {},
   "outputs": [
    {
     "data": {
      "text/plain": [
       "array([[[0., 1.],\n",
       "        [2., 3.]],\n",
       "\n",
       "       [[4., 5.],\n",
       "        [6., 7.]]], dtype=float16)"
      ]
     },
     "execution_count": 65,
     "metadata": {},
     "output_type": "execute_result"
    }
   ],
   "source": [
    "#change Datatype\n",
    "#astype\n",
    "a3.astype(np.float16)\n",
    " "
   ]
  },
  {
   "cell_type": "markdown",
   "id": "ee85752a-e494-4cbc-b0ee-24fb04463cca",
   "metadata": {},
   "source": [
    "## Array Operation"
   ]
  },
  {
   "cell_type": "code",
   "execution_count": 67,
   "id": "a7e5ee19-617a-442b-a98b-8eb606bd87a1",
   "metadata": {},
   "outputs": [],
   "source": [
    "b1=np.arange(12).reshape(3,4)\n",
    "b2=np.arange(12,24).reshape(3,4)"
   ]
  },
  {
   "cell_type": "code",
   "execution_count": 68,
   "id": "b0a5a715-21a5-49a7-be55-dd6d9c1aaf19",
   "metadata": {},
   "outputs": [
    {
     "name": "stderr",
     "output_type": "stream",
     "text": [
      "ic| b1 + 3: array([[ 3,  4,  5,  6],\n",
      "                   [ 7,  8,  9, 10],\n",
      "                   [11, 12, 13, 14]])\n"
     ]
    },
    {
     "data": {
      "text/plain": [
       "array([[  0,   1,   4,   9],\n",
       "       [ 16,  25,  36,  49],\n",
       "       [ 64,  81, 100, 121]])"
      ]
     },
     "execution_count": 68,
     "metadata": {},
     "output_type": "execute_result"
    }
   ],
   "source": [
    "# scalar operation\n",
    "ic(b1 + 3)\n",
    " \n",
    "#arithmatic\n",
    "b1 **2"
   ]
  },
  {
   "cell_type": "code",
   "execution_count": 69,
   "id": "5013f415-1cc6-4dbf-a6ba-4a40d11f254e",
   "metadata": {},
   "outputs": [
    {
     "data": {
      "text/plain": [
       "array([[False, False, False, False],\n",
       "       [ True,  True,  True,  True],\n",
       "       [ True,  True,  True,  True]])"
      ]
     },
     "execution_count": 69,
     "metadata": {},
     "output_type": "execute_result"
    }
   ],
   "source": [
    "# relational\n",
    "b2>15"
   ]
  },
  {
   "cell_type": "code",
   "execution_count": 70,
   "id": "0b5f2899-a922-428e-bebb-a9a9dc43f83c",
   "metadata": {},
   "outputs": [
    {
     "data": {
      "text/plain": [
       "array([[  0,  13,  28,  45],\n",
       "       [ 64,  85, 108, 133],\n",
       "       [160, 189, 220, 253]])"
      ]
     },
     "execution_count": 70,
     "metadata": {},
     "output_type": "execute_result"
    }
   ],
   "source": [
    "#vector operations\n",
    "b1 * b2\n",
    " "
   ]
  },
  {
   "cell_type": "code",
   "execution_count": 71,
   "id": "eb2a0765-0987-4256-8590-ea4a7c57efbe",
   "metadata": {},
   "outputs": [
    {
     "data": {
      "text/plain": [
       "23"
      ]
     },
     "execution_count": 71,
     "metadata": {},
     "output_type": "execute_result"
    }
   ],
   "source": [
    "#max / min / sum / prod\n",
    "np.max(b2)\n",
    " \n",
    " "
   ]
  },
  {
   "cell_type": "code",
   "execution_count": 72,
   "id": "0599c11d-5949-4d77-b177-090d7550f01f",
   "metadata": {},
   "outputs": [
    {
     "data": {
      "text/plain": [
       "12"
      ]
     },
     "execution_count": 72,
     "metadata": {},
     "output_type": "execute_result"
    }
   ],
   "source": [
    "np.min(b2)"
   ]
  },
  {
   "cell_type": "code",
   "execution_count": 73,
   "id": "c2fbf257-63fb-4aef-96c5-08ca9e419bee",
   "metadata": {},
   "outputs": [
    {
     "data": {
      "text/plain": [
       "66"
      ]
     },
     "execution_count": 73,
     "metadata": {},
     "output_type": "execute_result"
    }
   ],
   "source": [
    "np.sum(b1)"
   ]
  },
  {
   "cell_type": "code",
   "execution_count": 74,
   "id": "7fd7f934-b531-471f-8a33-2ad3de687f44",
   "metadata": {},
   "outputs": [
    {
     "data": {
      "text/plain": [
       "0"
      ]
     },
     "execution_count": 74,
     "metadata": {},
     "output_type": "execute_result"
    }
   ],
   "source": [
    "np.prod(b1)"
   ]
  },
  {
   "cell_type": "code",
   "execution_count": 75,
   "id": "328f71c2-0e88-4ef2-8717-e28f36f82a90",
   "metadata": {},
   "outputs": [
    {
     "name": "stderr",
     "output_type": "stream",
     "text": [
      "ic| b2: array([[12, 13, 14, 15],\n",
      "               [16, 17, 18, 19],\n",
      "               [20, 21, 22, 23]])\n",
      "ic| np.max(b2,axis=0): array([20, 21, 22, 23])\n",
      "ic| np.max(b2,axis=1): array([15, 19, 23])\n"
     ]
    },
    {
     "data": {
      "text/plain": [
       "array([15, 19, 23])"
      ]
     },
     "execution_count": 75,
     "metadata": {},
     "output_type": "execute_result"
    }
   ],
   "source": [
    "ic(b2)\n",
    "# 0 -> col and 1 -> row \n",
    "ic(np.max(b2,axis=0))\n",
    "ic(np.max(b2,axis=1))"
   ]
  },
  {
   "cell_type": "code",
   "execution_count": 76,
   "id": "dde3c7c4-69e2-49fa-942e-ace56d401402",
   "metadata": {},
   "outputs": [
    {
     "data": {
      "text/plain": [
       "array([4., 5., 6., 7.])"
      ]
     },
     "execution_count": 76,
     "metadata": {},
     "output_type": "execute_result"
    }
   ],
   "source": [
    "# mean /median /std/ var\n",
    "np.mean(b1,axis=0)"
   ]
  },
  {
   "cell_type": "code",
   "execution_count": 77,
   "id": "6ae15a98-addf-4979-979d-363086cb21ac",
   "metadata": {},
   "outputs": [
    {
     "ename": "ValueError",
     "evalue": "shapes (3,4) and (3,4) not aligned: 4 (dim 1) != 3 (dim 0)",
     "output_type": "error",
     "traceback": [
      "\u001b[1;31m---------------------------------------------------------------------------\u001b[0m",
      "\u001b[1;31mValueError\u001b[0m                                Traceback (most recent call last)",
      "Cell \u001b[1;32mIn[77], line 4\u001b[0m\n\u001b[0;32m      2\u001b[0m b1\u001b[38;5;241m=\u001b[39mnp\u001b[38;5;241m.\u001b[39marange(\u001b[38;5;241m12\u001b[39m)\u001b[38;5;241m.\u001b[39mreshape(\u001b[38;5;241m3\u001b[39m,\u001b[38;5;241m4\u001b[39m)\n\u001b[0;32m      3\u001b[0m b2\u001b[38;5;241m=\u001b[39mnp\u001b[38;5;241m.\u001b[39marange(\u001b[38;5;241m12\u001b[39m,\u001b[38;5;241m24\u001b[39m)\u001b[38;5;241m.\u001b[39mreshape(\u001b[38;5;241m3\u001b[39m,\u001b[38;5;241m4\u001b[39m)\n\u001b[1;32m----> 4\u001b[0m \u001b[43mnp\u001b[49m\u001b[38;5;241;43m.\u001b[39;49m\u001b[43mdot\u001b[49m\u001b[43m(\u001b[49m\u001b[43mb1\u001b[49m\u001b[43m,\u001b[49m\u001b[43mb2\u001b[49m\u001b[43m)\u001b[49m  \u001b[38;5;66;03m# it wont work bsc b1=3 x 4   b2=3X4\u001b[39;00m\n",
      "\u001b[1;31mValueError\u001b[0m: shapes (3,4) and (3,4) not aligned: 4 (dim 1) != 3 (dim 0)"
     ]
    }
   ],
   "source": [
    "# dot product  a=2 X 3  b= 3 x 7 it will work  \n",
    "b1=np.arange(12).reshape(3,4)\n",
    "b2=np.arange(12,24).reshape(3,4)\n",
    "np.dot(b1,b2)  # it wont work bsc b1=3 x 4   b2=3X4"
   ]
  },
  {
   "cell_type": "code",
   "execution_count": 78,
   "id": "b10ef211-e81d-45a9-9b69-5492dc7386f6",
   "metadata": {},
   "outputs": [
    {
     "data": {
      "text/plain": [
       "array([[114, 120, 126],\n",
       "       [378, 400, 422],\n",
       "       [642, 680, 718]])"
      ]
     },
     "execution_count": 78,
     "metadata": {},
     "output_type": "execute_result"
    }
   ],
   "source": [
    "b1=np.arange(12).reshape(3,4)\n",
    "b2=np.arange(12,24).reshape(4,3)\n",
    "np.dot(b1,b2)"
   ]
  },
  {
   "cell_type": "code",
   "execution_count": 79,
   "id": "94df1540-8a72-46c6-b19a-0a897f708ea2",
   "metadata": {},
   "outputs": [
    {
     "name": "stderr",
     "output_type": "stream",
     "text": [
      "C:\\Users\\karth\\AppData\\Local\\Temp\\ipykernel_17500\\2835116542.py:2: RuntimeWarning: divide by zero encountered in log\n",
      "  np.log(b1)\n"
     ]
    },
    {
     "data": {
      "text/plain": [
       "array([[      -inf, 0.        , 0.69314718, 1.09861229],\n",
       "       [1.38629436, 1.60943791, 1.79175947, 1.94591015],\n",
       "       [2.07944154, 2.19722458, 2.30258509, 2.39789527]])"
      ]
     },
     "execution_count": 79,
     "metadata": {},
     "output_type": "execute_result"
    }
   ],
   "source": [
    "#log and exponents\n",
    "np.log(b1)\n",
    " "
   ]
  },
  {
   "cell_type": "code",
   "execution_count": 80,
   "id": "46458fc5-c965-4443-8290-49689c705603",
   "metadata": {},
   "outputs": [
    {
     "data": {
      "text/plain": [
       "array([[1.62754791e+05, 4.42413392e+05, 1.20260428e+06],\n",
       "       [3.26901737e+06, 8.88611052e+06, 2.41549528e+07],\n",
       "       [6.56599691e+07, 1.78482301e+08, 4.85165195e+08],\n",
       "       [1.31881573e+09, 3.58491285e+09, 9.74480345e+09]])"
      ]
     },
     "execution_count": 80,
     "metadata": {},
     "output_type": "execute_result"
    }
   ],
   "source": [
    "np.exp(b2)"
   ]
  },
  {
   "cell_type": "code",
   "execution_count": 81,
   "id": "0b4c2a4d-4384-4ace-942a-97ffc43bda08",
   "metadata": {},
   "outputs": [
    {
     "data": {
      "text/plain": [
       "array([[63.01715139, 67.32192445, 91.57658952],\n",
       "       [14.68975543, 72.67147481, 70.92818434]])"
      ]
     },
     "execution_count": 81,
     "metadata": {},
     "output_type": "execute_result"
    }
   ],
   "source": [
    "# round / floor / ceil\n",
    " \n",
    "(np.random.random((2,3))*100)"
   ]
  },
  {
   "cell_type": "code",
   "execution_count": 82,
   "id": "76710c04-0f4a-403c-85e9-7452b1a7298f",
   "metadata": {},
   "outputs": [
    {
     "data": {
      "text/plain": [
       "array([[28.,  2., 57.],\n",
       "       [17., 78., 43.]])"
      ]
     },
     "execution_count": 82,
     "metadata": {},
     "output_type": "execute_result"
    }
   ],
   "source": [
    "np.round((np.random.random((2,3))*100))\n"
   ]
  },
  {
   "cell_type": "code",
   "execution_count": 83,
   "id": "666cd5a4-7c01-44e9-9dd8-76abac9e66f8",
   "metadata": {},
   "outputs": [
    {
     "data": {
      "text/plain": [
       "array([[67., 68., 34.],\n",
       "       [ 8., 54., 62.]])"
      ]
     },
     "execution_count": 83,
     "metadata": {},
     "output_type": "execute_result"
    }
   ],
   "source": [
    " \n",
    "np.floor((np.random.random((2,3))*100))\n",
    "\n"
   ]
  },
  {
   "cell_type": "code",
   "execution_count": 84,
   "id": "c9047381-d471-4383-9343-3e40ca8af27d",
   "metadata": {},
   "outputs": [
    {
     "data": {
      "text/plain": [
       "array([[78., 61., 32.],\n",
       "       [33., 66., 18.]])"
      ]
     },
     "execution_count": 84,
     "metadata": {},
     "output_type": "execute_result"
    }
   ],
   "source": [
    "np.ceil((np.random.random((2,3))*100))"
   ]
  },
  {
   "cell_type": "markdown",
   "id": "6c2e054a-2e6e-4757-9456-257b7564d454",
   "metadata": {},
   "source": [
    "## indexing and slicing"
   ]
  },
  {
   "cell_type": "code",
   "execution_count": 86,
   "id": "361d8ace-85f5-427a-9750-5531a19eb3b7",
   "metadata": {},
   "outputs": [],
   "source": [
    "a1 = np.arange(10)\n",
    "a2 =np.arange(12).reshape(3,4)\n",
    "a3=np.arange(8).reshape(2,2,2)"
   ]
  },
  {
   "cell_type": "code",
   "execution_count": 87,
   "id": "9375166f-2521-4d2f-9953-dd5edca12361",
   "metadata": {},
   "outputs": [
    {
     "data": {
      "text/plain": [
       "array([[ 0,  1,  2,  3],\n",
       "       [ 4,  5,  6,  7],\n",
       "       [ 8,  9, 10, 11]])"
      ]
     },
     "execution_count": 87,
     "metadata": {},
     "output_type": "execute_result"
    }
   ],
   "source": [
    "\n",
    "a2"
   ]
  },
  {
   "cell_type": "code",
   "execution_count": 88,
   "id": "0c4899bf-140f-4a24-bd8b-d10453f304a4",
   "metadata": {},
   "outputs": [
    {
     "name": "stderr",
     "output_type": "stream",
     "text": [
      "ic| a[-1]: 5\n"
     ]
    },
    {
     "data": {
      "text/plain": [
       "5"
      ]
     },
     "execution_count": 88,
     "metadata": {},
     "output_type": "execute_result"
    }
   ],
   "source": [
    "ic(a[-1]) # last element"
   ]
  },
  {
   "cell_type": "code",
   "execution_count": 89,
   "id": "eb91941e-2821-445c-9524-603d3a5f3088",
   "metadata": {},
   "outputs": [
    {
     "name": "stderr",
     "output_type": "stream",
     "text": [
      "ic| a[0]: 1\n"
     ]
    },
    {
     "data": {
      "text/plain": [
       "1"
      ]
     },
     "execution_count": 89,
     "metadata": {},
     "output_type": "execute_result"
    }
   ],
   "source": [
    "ic(a[0]) # first element"
   ]
  },
  {
   "cell_type": "code",
   "execution_count": 90,
   "id": "2a59c94e-7b84-42bc-90e9-d22dfdc98c1c",
   "metadata": {},
   "outputs": [
    {
     "name": "stderr",
     "output_type": "stream",
     "text": [
      "ic| a2[1,2]: 6\n"
     ]
    },
    {
     "data": {
      "text/plain": [
       "6"
      ]
     },
     "execution_count": 90,
     "metadata": {},
     "output_type": "execute_result"
    }
   ],
   "source": [
    "ic(a2[1,2])\n",
    " "
   ]
  },
  {
   "cell_type": "code",
   "execution_count": 91,
   "id": "9cb51c73-ec15-42cb-a93d-4c7a5f018488",
   "metadata": {},
   "outputs": [
    {
     "name": "stderr",
     "output_type": "stream",
     "text": [
      "ic| a2[-1,-1]: 11\n"
     ]
    },
    {
     "data": {
      "text/plain": [
       "11"
      ]
     },
     "execution_count": 91,
     "metadata": {},
     "output_type": "execute_result"
    }
   ],
   "source": [
    "ic(a2[-1,-1])"
   ]
  },
  {
   "cell_type": "code",
   "execution_count": 92,
   "id": "77ac89e0-ae3b-4bb1-b260-40c8d1ee8f31",
   "metadata": {},
   "outputs": [
    {
     "name": "stderr",
     "output_type": "stream",
     "text": [
      "ic| a3[-1,-2,-1]: 5\n"
     ]
    },
    {
     "data": {
      "text/plain": [
       "5"
      ]
     },
     "execution_count": 92,
     "metadata": {},
     "output_type": "execute_result"
    }
   ],
   "source": [
    "ic(a3[-1,-2,-1])"
   ]
  },
  {
   "cell_type": "code",
   "execution_count": 93,
   "id": "ec53a874-dc34-46c7-8ae3-5e775c2402e2",
   "metadata": {},
   "outputs": [
    {
     "name": "stderr",
     "output_type": "stream",
     "text": [
      "ic| a3[1,0,1]: 5\n"
     ]
    },
    {
     "data": {
      "text/plain": [
       "5"
      ]
     },
     "execution_count": 93,
     "metadata": {},
     "output_type": "execute_result"
    }
   ],
   "source": [
    "ic(a3[1,0,1])   #both or same"
   ]
  },
  {
   "cell_type": "code",
   "execution_count": 94,
   "id": "80356784-e7a8-4659-b029-86d429d21ee9",
   "metadata": {},
   "outputs": [
    {
     "name": "stderr",
     "output_type": "stream",
     "text": [
      "ic| a1: array([0, 1, 2, 3, 4, 5, 6, 7, 8, 9])\n"
     ]
    },
    {
     "data": {
      "text/plain": [
       "array([2, 3, 4])"
      ]
     },
     "execution_count": 94,
     "metadata": {},
     "output_type": "execute_result"
    }
   ],
   "source": [
    "ic(a1)\n",
    "a1[2:5]"
   ]
  },
  {
   "cell_type": "code",
   "execution_count": 95,
   "id": "9fe3fa1a-4280-4d58-b5f3-fb121b8b9ddc",
   "metadata": {},
   "outputs": [
    {
     "name": "stderr",
     "output_type": "stream",
     "text": [
      "ic| a2: array([[ 0,  1,  2,  3],\n",
      "               [ 4,  5,  6,  7],\n",
      "               [ 8,  9, 10, 11]])\n"
     ]
    },
    {
     "data": {
      "text/plain": [
       "array([1, 2, 3])"
      ]
     },
     "execution_count": 95,
     "metadata": {},
     "output_type": "execute_result"
    }
   ],
   "source": [
    "ic(a2)\n",
    "a2[0,1:]"
   ]
  },
  {
   "cell_type": "code",
   "execution_count": 96,
   "id": "42a202e0-8587-4b40-a76f-4ce5fab61c68",
   "metadata": {},
   "outputs": [
    {
     "data": {
      "text/plain": [
       "array([[ 5,  6],\n",
       "       [ 9, 10]])"
      ]
     },
     "execution_count": 96,
     "metadata": {},
     "output_type": "execute_result"
    }
   ],
   "source": [
    "a2[1:,1:3]   #[rows,colums]"
   ]
  },
  {
   "cell_type": "code",
   "execution_count": 97,
   "id": "53324661-114a-4598-b9c3-c2c5ea51147d",
   "metadata": {},
   "outputs": [
    {
     "data": {
      "text/plain": [
       "array([[ 1,  3],\n",
       "       [ 9, 11]])"
      ]
     },
     "execution_count": 97,
     "metadata": {},
     "output_type": "execute_result"
    }
   ],
   "source": [
    "a2[::2,1::2]"
   ]
  },
  {
   "cell_type": "code",
   "execution_count": 98,
   "id": "3a9aff8a-2d51-4c82-8236-a6ffce1d4b61",
   "metadata": {},
   "outputs": [
    {
     "name": "stderr",
     "output_type": "stream",
     "text": [
      "ic| a3: array([[[0, 1],\n",
      "                [2, 3]],\n",
      "        \n",
      "               [[4, 5],\n",
      "                [6, 7]]])\n"
     ]
    },
    {
     "data": {
      "text/plain": [
       "array([[[0, 1],\n",
       "        [2, 3]],\n",
       "\n",
       "       [[4, 5],\n",
       "        [6, 7]]])"
      ]
     },
     "execution_count": 98,
     "metadata": {},
     "output_type": "execute_result"
    }
   ],
   "source": [
    "ic(a3)"
   ]
  },
  {
   "cell_type": "code",
   "execution_count": 99,
   "id": "e29c2b50-ac36-44c4-9a43-cd1d5f83a47e",
   "metadata": {},
   "outputs": [],
   "source": [
    "a3=np.arange(27).reshape(3,3,3)"
   ]
  },
  {
   "cell_type": "code",
   "execution_count": 100,
   "id": "6e5111db-e0fb-4f48-82b0-53cf3c1445b8",
   "metadata": {},
   "outputs": [
    {
     "name": "stderr",
     "output_type": "stream",
     "text": [
      "ic| a3: array([[[ 0,  1,  2],\n",
      "                [ 3,  4,  5],\n",
      "                [ 6,  7,  8]],\n",
      "        \n",
      "               [[ 9, 10, 11],\n",
      "                [12, 13, 14],\n",
      "                [15, 16, 17]],\n",
      "        \n",
      "               [[18, 19, 20],\n",
      "                [21, 22, 23],\n",
      "                [24, 25, 26]]])\n"
     ]
    },
    {
     "data": {
      "text/plain": [
       "array([[[ 0,  1,  2],\n",
       "        [ 3,  4,  5],\n",
       "        [ 6,  7,  8]],\n",
       "\n",
       "       [[ 9, 10, 11],\n",
       "        [12, 13, 14],\n",
       "        [15, 16, 17]],\n",
       "\n",
       "       [[18, 19, 20],\n",
       "        [21, 22, 23],\n",
       "        [24, 25, 26]]])"
      ]
     },
     "execution_count": 100,
     "metadata": {},
     "output_type": "execute_result"
    }
   ],
   "source": [
    "ic(a3)"
   ]
  },
  {
   "cell_type": "code",
   "execution_count": 101,
   "id": "acd433d6-2b67-42ed-98f6-f6a91164388f",
   "metadata": {},
   "outputs": [
    {
     "data": {
      "text/plain": [
       "array([[[ 0,  1,  2],\n",
       "        [ 3,  4,  5],\n",
       "        [ 6,  7,  8]],\n",
       "\n",
       "       [[18, 19, 20],\n",
       "        [21, 22, 23],\n",
       "        [24, 25, 26]]])"
      ]
     },
     "execution_count": 101,
     "metadata": {},
     "output_type": "execute_result"
    }
   ],
   "source": [
    "a3[::2]"
   ]
  },
  {
   "cell_type": "code",
   "execution_count": 102,
   "id": "f984031e-e99f-41d3-862b-905bf8c7e22f",
   "metadata": {},
   "outputs": [
    {
     "data": {
      "text/plain": [
       "array([3, 4, 5])"
      ]
     },
     "execution_count": 102,
     "metadata": {},
     "output_type": "execute_result"
    }
   ],
   "source": [
    "a3[0,1]"
   ]
  },
  {
   "cell_type": "code",
   "execution_count": 103,
   "id": "add917b7-9b73-4678-b035-9cf129fa3d82",
   "metadata": {},
   "outputs": [
    {
     "data": {
      "text/plain": [
       "array([10, 13, 16])"
      ]
     },
     "execution_count": 103,
     "metadata": {},
     "output_type": "execute_result"
    }
   ],
   "source": [
    "a3[1,:,1]"
   ]
  },
  {
   "cell_type": "code",
   "execution_count": 104,
   "id": "19a12339-050e-4146-ae15-20359efe7fa6",
   "metadata": {},
   "outputs": [
    {
     "data": {
      "text/plain": [
       "array([[22, 23],\n",
       "       [25, 26]])"
      ]
     },
     "execution_count": 104,
     "metadata": {},
     "output_type": "execute_result"
    }
   ],
   "source": [
    "a3[2,1:,1:]"
   ]
  },
  {
   "cell_type": "code",
   "execution_count": 105,
   "id": "c08cea74-35d8-46cd-9cfe-51f5161a806d",
   "metadata": {},
   "outputs": [
    {
     "data": {
      "text/plain": [
       "array([[ 0,  2],\n",
       "       [18, 20]])"
      ]
     },
     "execution_count": 105,
     "metadata": {},
     "output_type": "execute_result"
    }
   ],
   "source": [
    "a3[::2,0,::2]     "
   ]
  },
  {
   "cell_type": "markdown",
   "id": "46075b5c-7f47-424f-8fd0-11efb6111ed6",
   "metadata": {},
   "source": [
    "# iterating"
   ]
  },
  {
   "cell_type": "code",
   "execution_count": 107,
   "id": "35778deb-fd35-40ee-89fd-794459740b72",
   "metadata": {},
   "outputs": [
    {
     "name": "stderr",
     "output_type": "stream",
     "text": [
      "ic| i: 0\n",
      "ic| i: 1\n",
      "ic| i: 2\n",
      "ic| i: 3\n",
      "ic| i: 4\n",
      "ic| i: 5\n",
      "ic| i: 6\n",
      "ic| i: 7\n",
      "ic| i: 8\n",
      "ic| i: 9\n"
     ]
    }
   ],
   "source": [
    "for i in a1:\n",
    "    ic(i)"
   ]
  },
  {
   "cell_type": "code",
   "execution_count": 108,
   "id": "6a4530e9-1d8f-4006-a519-e2422bdfd071",
   "metadata": {},
   "outputs": [
    {
     "name": "stdout",
     "output_type": "stream",
     "text": [
      "[0 1 2 3]\n",
      "[4 5 6 7]\n",
      "[ 8  9 10 11]\n"
     ]
    }
   ],
   "source": [
    "for item in a2:\n",
    "    print(item)"
   ]
  },
  {
   "cell_type": "code",
   "execution_count": 109,
   "id": "c2fe54ce-f994-4a11-810a-195c43f34db9",
   "metadata": {},
   "outputs": [
    {
     "name": "stdout",
     "output_type": "stream",
     "text": [
      "[[0 1 2]\n",
      " [3 4 5]\n",
      " [6 7 8]]\n",
      "[[ 9 10 11]\n",
      " [12 13 14]\n",
      " [15 16 17]]\n",
      "[[18 19 20]\n",
      " [21 22 23]\n",
      " [24 25 26]]\n"
     ]
    }
   ],
   "source": [
    "for i in a3:\n",
    "   print(i)"
   ]
  },
  {
   "cell_type": "code",
   "execution_count": null,
   "id": "683b2075-2f84-4aba-8412-fd6550b53a39",
   "metadata": {},
   "outputs": [],
   "source": []
  }
 ],
 "metadata": {
  "kernelspec": {
   "display_name": "Python 3 (ipykernel)",
   "language": "python",
   "name": "python3"
  },
  "language_info": {
   "codemirror_mode": {
    "name": "ipython",
    "version": 3
   },
   "file_extension": ".py",
   "mimetype": "text/x-python",
   "name": "python",
   "nbconvert_exporter": "python",
   "pygments_lexer": "ipython3",
   "version": "3.12.7"
  }
 },
 "nbformat": 4,
 "nbformat_minor": 5
}
